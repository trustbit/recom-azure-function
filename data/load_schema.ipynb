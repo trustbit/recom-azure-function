{
 "cells": [
  {
   "cell_type": "code",
   "execution_count": 1,
   "id": "23e4f278-0cf5-4fb3-9db4-0684c2b13540",
   "metadata": {},
   "outputs": [],
   "source": [
    "from datetime import datetime\n",
    "from init_azure_db import create_tables\n",
    "from sqlalchemy.engine.base import Engine\n",
    "import pandas as pd\n",
    "from connect_mssql import connect_mssql, get_mssql_engine\n",
    "from load_mssql import empty_table, load_table, migrate_table, load_json_data"
   ]
  },
  {
   "cell_type": "code",
   "execution_count": 2,
   "id": "7ab0a151-8ae0-4f63-93d0-3d1ab8cf6a1a",
   "metadata": {},
   "outputs": [],
   "source": [
    "pd.set_option(\"display.max_columns\", 150, \"display.width\", 2000)"
   ]
  },
  {
   "cell_type": "code",
   "execution_count": 3,
   "id": "0f9b9358-c1e3-4484-a168-c5966e3ce9ee",
   "metadata": {},
   "outputs": [],
   "source": [
    "engine = get_mssql_engine()"
   ]
  },
  {
   "cell_type": "code",
   "execution_count": 4,
   "id": "aea107a3-dd98-4048-a58d-15e65038f2c1",
   "metadata": {},
   "outputs": [],
   "source": [
    "df = load_json_data(company=\"recom\")"
   ]
  },
  {
   "cell_type": "markdown",
   "id": "73edcd47-fe95-4e7f-aedb-6cf3f573f123",
   "metadata": {},
   "source": [
    "# create tables"
   ]
  },
  {
   "cell_type": "code",
   "execution_count": 5,
   "id": "64c6f291-92da-42d5-a41b-e262667bd0cd",
   "metadata": {},
   "outputs": [],
   "source": [
    "create_tables(schema=\"recom\")"
   ]
  },
  {
   "cell_type": "markdown",
   "id": "f9d08825-7adc-44db-b3df-82789f052d9c",
   "metadata": {},
   "source": [
    "# create product series"
   ]
  },
  {
   "cell_type": "code",
   "execution_count": 6,
   "id": "3419349e-5d9e-4fee-8ea7-f475e9c416cb",
   "metadata": {},
   "outputs": [],
   "source": [
    "def create_product_series_data(input_data: pd.DataFrame):\n",
    "    result_data = pd.DataFrame(data={\"name\": input_data[\"product_series\"].unique()})\n",
    "\n",
    "    return result_data\n"
   ]
  },
  {
   "cell_type": "code",
   "execution_count": 7,
   "id": "9dcd5670-d1f9-494c-ae32-d64d76c9a33a",
   "metadata": {},
   "outputs": [],
   "source": [
    "def upsert_table(\n",
    "    data: pd.DataFrame, \n",
    "    table_name: str,\n",
    "    column_identifier: str,\n",
    "    schema: str = \"recom\", \n",
    "    db_engine: Engine = engine\n",
    "):\n",
    "\n",
    "    # get existing products series\n",
    "    df_series = pd.read_sql_table(table_name=table_name, schema=schema, con=db_engine)\n",
    "\n",
    "    data_to_insert = data.loc[~data[column_identifier].isin(df_series[column_identifier])].copy()\n",
    "\n",
    "    load_table(data=data_to_insert, table_name=table_name, db_engine=db_engine, schema_name=schema)\n",
    "\n",
    "    return data_to_insert.shape"
   ]
  },
  {
   "cell_type": "code",
   "execution_count": 8,
   "id": "f736b34e-cf97-43f9-905c-de95fd98de44",
   "metadata": {},
   "outputs": [
    {
     "data": {
      "text/plain": [
       "(0, 1)"
      ]
     },
     "execution_count": 8,
     "metadata": {},
     "output_type": "execute_result"
    }
   ],
   "source": [
    "upsert_table(data=create_product_series_data(df), table_name=\"product_series\", column_identifier=\"name\")"
   ]
  },
  {
   "cell_type": "markdown",
   "id": "9943fde0-d068-49c3-8d64-1f0aa2c6cf72",
   "metadata": {},
   "source": [
    "# create certifications"
   ]
  },
  {
   "cell_type": "code",
   "execution_count": 9,
   "id": "83523f77-4776-4c04-8ada-30e2a0a9deba",
   "metadata": {},
   "outputs": [],
   "source": [
    "def create_certifications_data(input_data: pd.DataFrame) -> pd.DataFrame:\n",
    "\n",
    "    result = pd.DataFrame(data={\"name\": input_data[\"certifications\"].explode().unique()})\n",
    "    result[\"name\"] = result[\"name\"].str.strip()\n",
    "    result[\"name\"] = result[\"name\"].str.lower()\n",
    "    \n",
    "    return result.drop_duplicates(subset=\"name\")"
   ]
  },
  {
   "cell_type": "code",
   "execution_count": 10,
   "id": "ea440749-32b6-4059-bcb5-eab48b69f3ec",
   "metadata": {},
   "outputs": [],
   "source": [
    "t = create_certifications_data(df)"
   ]
  },
  {
   "cell_type": "code",
   "execution_count": 11,
   "id": "c7eb58ce-862d-40fb-9002-9384d3745555",
   "metadata": {},
   "outputs": [
    {
     "data": {
      "text/plain": [
       "(0, 1)"
      ]
     },
     "execution_count": 11,
     "metadata": {},
     "output_type": "execute_result"
    }
   ],
   "source": [
    "upsert_table(data=create_certifications_data(df), table_name=\"certifications\", column_identifier=\"name\")"
   ]
  },
  {
   "cell_type": "code",
   "execution_count": 12,
   "id": "72c509b2-45b9-4b35-9077-eb61c0f278ea",
   "metadata": {},
   "outputs": [
    {
     "data": {
      "text/plain": [
       "['reinforced isolation', '2MOPP']"
      ]
     },
     "execution_count": 12,
     "metadata": {},
     "output_type": "execute_result"
    }
   ],
   "source": [
    "df['protections'].values[2]"
   ]
  },
  {
   "cell_type": "markdown",
   "id": "8372e4b9-981a-4b09-8a51-159c3cd14244",
   "metadata": {},
   "source": [
    "# create protections"
   ]
  },
  {
   "cell_type": "code",
   "execution_count": 13,
   "id": "8a42647a-51de-4d78-8e1b-bb745c2f1a89",
   "metadata": {},
   "outputs": [],
   "source": [
    "def create_protections_data(input_data: pd.DataFrame) -> pd.DataFrame:\n",
    "    result_data = pd.DataFrame(data={\"name\": input_data[\"protections\"].explode().unique()})\n",
    "    result_data[\"name\"] = result_data[\"name\"].str.strip()\n",
    "    result_data[\"name\"] = result_data[\"name\"].str.lower()\n",
    "    result_data = result_data.drop_duplicates(subset=\"name\")\n",
    "\n",
    "    return result_data.loc[~result_data[\"name\"].isna()]"
   ]
  },
  {
   "cell_type": "code",
   "execution_count": 14,
   "id": "758ba11e-f575-4b85-ac13-d602138fda64",
   "metadata": {},
   "outputs": [
    {
     "data": {
      "text/plain": [
       "(0, 1)"
      ]
     },
     "execution_count": 14,
     "metadata": {},
     "output_type": "execute_result"
    }
   ],
   "source": [
    "upsert_table(data=create_protections_data(df), table_name=\"protections\", column_identifier=\"name\")"
   ]
  },
  {
   "cell_type": "code",
   "execution_count": 15,
   "id": "3a8b2b11-6ad3-477b-9513-ae895a0dfcc7",
   "metadata": {},
   "outputs": [
    {
     "data": {
      "text/plain": [
       "Index(['product_series', 'part_number', 'converter_type', 'ac_voltage_input_min', 'ac_voltage_input_max', 'dc_voltage_input_min', 'dc_voltage_input_max', 'input_voltage_tolerance', 'power', 'is_regulated', 'regulation_voltage_range', 'efficiency', 'isolation_test_voltage', 'voltage_output_1', 'voltage_output_2', 'voltage_output_3', 'i_out1', 'i_out2', 'i_out3', 'output_type', 'pins', 'package', 'packaging_type', 'dimensions', 'certifications', 'protections', 'operating_temperature', 'power_derating', 'company'], dtype='object')"
      ]
     },
     "execution_count": 15,
     "metadata": {},
     "output_type": "execute_result"
    }
   ],
   "source": [
    "df.columns"
   ]
  },
  {
   "cell_type": "markdown",
   "id": "01d0a053-c3fa-42bd-8aaf-86cfbb676774",
   "metadata": {},
   "source": [
    "# create converters"
   ]
  },
  {
   "cell_type": "code",
   "execution_count": 16,
   "id": "cf9ec8a2-6988-4de8-ab34-d008e0d44d76",
   "metadata": {},
   "outputs": [],
   "source": [
    "def create_converters_data(input_data: pd.DataFrame, company: str, schema: str=\"recom\", db_engine: Engine=engine) -> pd.DataFrame:\n",
    "    result = df.copy()\n",
    "\n",
    "    product_series_df = pd.read_sql_table(table_name=\"product_series\", schema=schema, con=db_engine)\n",
    "    product_series_df = product_series_df.rename(columns={\"id\": \"product_series_id\"})\n",
    "\n",
    "    # join the product series table to get DB id from schema\n",
    "    result = result.merge(product_series_df, left_on=\"product_series\", right_on=\"name\", how=\"left\")\n",
    "    # drop redundant name col\n",
    "    result = result.drop(columns=[\"product_series\", \"name\"])\n",
    "    \n",
    "    result[\"pin_count\"] = result[\"pins\"].map(len)\n",
    "\n",
    "    for k in [\"mounting_type\", \"connection_type\"]:\n",
    "        result[k] = result[\"package\"].map(lambda x: x.get(k) if x is not None else None)\n",
    "    \n",
    "    for k in [\"unit\", \"length\", \"width\", \"height\"]:\n",
    "        result[f\"dimensions_{k}\"] = result[\"dimensions\"].map(lambda x: x.get(k) if x is not None else None)    \n",
    "    \n",
    "    for k in [\"min\", \"max\"]:\n",
    "        result[f\"operating_temp_{k}\"] = result[\"operating_temperature\"].map(lambda x: x.get(k) if x is not None else None)\n",
    "    \n",
    "    result['company'] = company\n",
    "\n",
    "    result[\"created_at\"] = datetime.now()\n",
    "    result[\"updated_at\"] = datetime.now()\n",
    "\n",
    "    res_columns = [\n",
    "        \"company\", \n",
    "        \"product_series_id\",\n",
    "        \"part_number\",\n",
    "        \"converter_type\",\n",
    "        \"ac_voltage_input_min\",\n",
    "        \"ac_voltage_input_max\",\n",
    "        \"dc_voltage_input_min\",\n",
    "        \"dc_voltage_input_max\",\n",
    "        \"input_voltage_tolerance\",\n",
    "        \"power\",\n",
    "        \"is_regulated\",\n",
    "        \"regulation_voltage_range\",\n",
    "        \"efficiency\",\n",
    "        \"voltage_output_1\",\n",
    "        \"voltage_output_2\",\n",
    "        \"voltage_output_3\",\n",
    "        \"i_out1\",\n",
    "        \"i_out2\",\n",
    "        \"i_out3\",\n",
    "        \"output_type\",\n",
    "        \"pin_count\",\n",
    "        \"mounting_type\",\n",
    "        \"connection_type\",\n",
    "        \"dimensions_unit\",\n",
    "        \"dimensions_length\",\n",
    "        \"dimensions_width\",\n",
    "        \"dimensions_height\",\n",
    "        \"operating_temp_min\",\n",
    "        \"operating_temp_max\",\n",
    "        \"created_at\",\n",
    "        \"updated_at\"\n",
    "    ]\n",
    "        \n",
    "\n",
    "    return result[res_columns].copy().drop_duplicates(subset=\"part_number\")\n",
    "\n",
    "    "
   ]
  },
  {
   "cell_type": "code",
   "execution_count": 17,
   "id": "e7751cba-e921-4923-974c-50187bf15bb9",
   "metadata": {},
   "outputs": [],
   "source": [
    "t = create_converters_data(df, company='recom')"
   ]
  },
  {
   "cell_type": "code",
   "execution_count": 18,
   "id": "69a86fcb-7a52-41e9-b865-9c6e1a3dab67",
   "metadata": {},
   "outputs": [
    {
     "data": {
      "text/plain": [
       "(0, 31)"
      ]
     },
     "execution_count": 18,
     "metadata": {},
     "output_type": "execute_result"
    }
   ],
   "source": [
    "upsert_table(data=t, table_name=\"converters\", column_identifier=\"part_number\", schema=\"recom\")"
   ]
  },
  {
   "cell_type": "code",
   "execution_count": 19,
   "id": "078c2863-f372-48ce-b378-5e991b4215c4",
   "metadata": {},
   "outputs": [
    {
     "data": {
      "text/plain": [
       "(482, 29)"
      ]
     },
     "execution_count": 19,
     "metadata": {},
     "output_type": "execute_result"
    }
   ],
   "source": [
    "df.shape"
   ]
  },
  {
   "cell_type": "code",
   "execution_count": 20,
   "id": "8d24b157-859f-4b17-a3a5-1d30a300342c",
   "metadata": {},
   "outputs": [
    {
     "data": {
      "text/plain": [
       "[{'duration_sec': 60, 'unit': 'VDC', 'voltage': 5200},\n",
       " {'duration_sec': 60, 'unit': 'VAC', 'voltage': 4000}]"
      ]
     },
     "execution_count": 20,
     "metadata": {},
     "output_type": "execute_result"
    }
   ],
   "source": [
    "df['isolation_test_voltage'].values[0]"
   ]
  },
  {
   "cell_type": "code",
   "execution_count": 21,
   "id": "86c65dce-5d47-462d-a2e6-80774c533764",
   "metadata": {},
   "outputs": [
    {
     "data": {
      "text/html": [
       "<div>\n",
       "<style scoped>\n",
       "    .dataframe tbody tr th:only-of-type {\n",
       "        vertical-align: middle;\n",
       "    }\n",
       "\n",
       "    .dataframe tbody tr th {\n",
       "        vertical-align: top;\n",
       "    }\n",
       "\n",
       "    .dataframe thead th {\n",
       "        text-align: right;\n",
       "    }\n",
       "</style>\n",
       "<table border=\"1\" class=\"dataframe\">\n",
       "  <thead>\n",
       "    <tr style=\"text-align: right;\">\n",
       "      <th></th>\n",
       "      <th>part_number</th>\n",
       "      <th>isolation_test_voltage</th>\n",
       "    </tr>\n",
       "  </thead>\n",
       "  <tbody>\n",
       "    <tr>\n",
       "      <th>0</th>\n",
       "      <td>REM1-0505S</td>\n",
       "      <td>[{'duration_sec': 60, 'unit': 'VDC', 'voltage'...</td>\n",
       "    </tr>\n",
       "    <tr>\n",
       "      <th>1</th>\n",
       "      <td>REM1-0512S</td>\n",
       "      <td>[{'duration_sec': 60, 'unit': 'VDC', 'voltage'...</td>\n",
       "    </tr>\n",
       "    <tr>\n",
       "      <th>2</th>\n",
       "      <td>REM1-053.3S</td>\n",
       "      <td>[{'duration_sec': 60, 'unit': 'VDC', 'voltage'...</td>\n",
       "    </tr>\n",
       "    <tr>\n",
       "      <th>3</th>\n",
       "      <td>REM1-1205S</td>\n",
       "      <td>[{'duration_sec': 60, 'unit': 'VDC', 'voltage'...</td>\n",
       "    </tr>\n",
       "    <tr>\n",
       "      <th>4</th>\n",
       "      <td>REM1-123.3S</td>\n",
       "      <td>[{'duration_sec': 60, 'unit': 'VDC', 'voltage'...</td>\n",
       "    </tr>\n",
       "  </tbody>\n",
       "</table>\n",
       "</div>"
      ],
      "text/plain": [
       "   part_number                             isolation_test_voltage\n",
       "0   REM1-0505S  [{'duration_sec': 60, 'unit': 'VDC', 'voltage'...\n",
       "1   REM1-0512S  [{'duration_sec': 60, 'unit': 'VDC', 'voltage'...\n",
       "2  REM1-053.3S  [{'duration_sec': 60, 'unit': 'VDC', 'voltage'...\n",
       "3   REM1-1205S  [{'duration_sec': 60, 'unit': 'VDC', 'voltage'...\n",
       "4  REM1-123.3S  [{'duration_sec': 60, 'unit': 'VDC', 'voltage'..."
      ]
     },
     "execution_count": 21,
     "metadata": {},
     "output_type": "execute_result"
    }
   ],
   "source": [
    "df[['part_number', 'isolation_test_voltage']].head()"
   ]
  },
  {
   "cell_type": "code",
   "execution_count": 22,
   "id": "6e2f4736-7d43-4200-87b5-afe38a6d1cb8",
   "metadata": {},
   "outputs": [],
   "source": [
    "def expand_list_of_dicts(df, column_name):\n",
    "    # Step 1: Explode the column with lists of dictionaries\n",
    "    # This creates duplicate rows for each dictionary in the list\n",
    "    exploded_df = df.explode(column_name)\n",
    "    \n",
    "    # Step 2: Normalize the dictionaries into separate columns\n",
    "    # This converts each dictionary into columns with prefixes\n",
    "    normalized = pd.json_normalize(exploded_df[column_name])\n",
    "    \n",
    "    # Step 3: Drop the original column containing the list of dicts\n",
    "    exploded_df = exploded_df.drop(column_name, axis=1)\n",
    "    \n",
    "    # Step 4: Concatenate the original dataframe (minus the exploded column)\n",
    "    # with the normalized dictionaries\n",
    "    result = pd.concat([exploded_df.reset_index(drop=True), normalized], axis=1)\n",
    "    \n",
    "    return result"
   ]
  },
  {
   "cell_type": "code",
   "execution_count": 23,
   "id": "1669cc11-02b3-4966-8d09-729e7c5aad27",
   "metadata": {},
   "outputs": [],
   "source": [
    "def map_converter_id(\n",
    "    input_data: pd.DataFrame, \n",
    "    db_engine: Engine = engine,\n",
    "    mapping_column_name: str = \"part_number\",\n",
    "    schema_name: str = \"recom\"\n",
    ") -> pd.DataFrame:\n",
    "\n",
    "    mapping_df = pd.read_sql_table(table_name='converters', con=engine, schema=schema_name)\n",
    "\n",
    "    result = input_data.merge(mapping_df[[\"part_number\", \"id\"]], left_on=mapping_column_name, right_on=\"part_number\", how=\"left\")\n",
    "    result = result.copy()\n",
    "    # result = result.rename(columns={\"id\", \"converter_id\"})\n",
    "\n",
    "    return result.rename(columns={\"id\": \"converter_id\"}).copy()"
   ]
  },
  {
   "cell_type": "code",
   "execution_count": 24,
   "id": "c11de55c-9a33-4664-a486-e1e31623cb6a",
   "metadata": {},
   "outputs": [],
   "source": [
    "t = expand_list_of_dicts(df[[\"isolation_test_voltage\", \"part_number\"]], \"isolation_test_voltage\")"
   ]
  },
  {
   "cell_type": "code",
   "execution_count": 25,
   "id": "ee792a24-0264-478b-81d1-84507c75ed5b",
   "metadata": {},
   "outputs": [],
   "source": [
    "t = map_converter_id(t)"
   ]
  },
  {
   "cell_type": "code",
   "execution_count": 26,
   "id": "f353f149-6df8-45bd-b54e-34bd7f367a33",
   "metadata": {},
   "outputs": [
    {
     "data": {
      "text/html": [
       "<div>\n",
       "<style scoped>\n",
       "    .dataframe tbody tr th:only-of-type {\n",
       "        vertical-align: middle;\n",
       "    }\n",
       "\n",
       "    .dataframe tbody tr th {\n",
       "        vertical-align: top;\n",
       "    }\n",
       "\n",
       "    .dataframe thead th {\n",
       "        text-align: right;\n",
       "    }\n",
       "</style>\n",
       "<table border=\"1\" class=\"dataframe\">\n",
       "  <thead>\n",
       "    <tr style=\"text-align: right;\">\n",
       "      <th></th>\n",
       "      <th>part_number</th>\n",
       "      <th>duration_sec</th>\n",
       "      <th>unit</th>\n",
       "      <th>voltage</th>\n",
       "      <th>converter_id</th>\n",
       "    </tr>\n",
       "  </thead>\n",
       "  <tbody>\n",
       "    <tr>\n",
       "      <th>0</th>\n",
       "      <td>REM1-0505S</td>\n",
       "      <td>60.0</td>\n",
       "      <td>VDC</td>\n",
       "      <td>5200</td>\n",
       "      <td>1</td>\n",
       "    </tr>\n",
       "    <tr>\n",
       "      <th>1</th>\n",
       "      <td>REM1-0505S</td>\n",
       "      <td>60.0</td>\n",
       "      <td>VAC</td>\n",
       "      <td>4000</td>\n",
       "      <td>1</td>\n",
       "    </tr>\n",
       "    <tr>\n",
       "      <th>2</th>\n",
       "      <td>REM1-0512S</td>\n",
       "      <td>60.0</td>\n",
       "      <td>VDC</td>\n",
       "      <td>5200</td>\n",
       "      <td>2</td>\n",
       "    </tr>\n",
       "    <tr>\n",
       "      <th>3</th>\n",
       "      <td>REM1-053.3S</td>\n",
       "      <td>60.0</td>\n",
       "      <td>VDC</td>\n",
       "      <td>5200</td>\n",
       "      <td>3</td>\n",
       "    </tr>\n",
       "    <tr>\n",
       "      <th>4</th>\n",
       "      <td>REM1-053.3S</td>\n",
       "      <td>60.0</td>\n",
       "      <td>VAC</td>\n",
       "      <td>4000</td>\n",
       "      <td>3</td>\n",
       "    </tr>\n",
       "    <tr>\n",
       "      <th>...</th>\n",
       "      <td>...</td>\n",
       "      <td>...</td>\n",
       "      <td>...</td>\n",
       "      <td>...</td>\n",
       "      <td>...</td>\n",
       "    </tr>\n",
       "    <tr>\n",
       "      <th>500</th>\n",
       "      <td>RAC05-05SK/277/W</td>\n",
       "      <td>60.0</td>\n",
       "      <td>VAC</td>\n",
       "      <td>4200</td>\n",
       "      <td>418</td>\n",
       "    </tr>\n",
       "    <tr>\n",
       "      <th>501</th>\n",
       "      <td>RAC05-12SK/277/W</td>\n",
       "      <td>60.0</td>\n",
       "      <td>VAC</td>\n",
       "      <td>4200</td>\n",
       "      <td>419</td>\n",
       "    </tr>\n",
       "    <tr>\n",
       "      <th>502</th>\n",
       "      <td>RAC05-15SK/277/W</td>\n",
       "      <td>60.0</td>\n",
       "      <td>VAC</td>\n",
       "      <td>4200</td>\n",
       "      <td>420</td>\n",
       "    </tr>\n",
       "    <tr>\n",
       "      <th>503</th>\n",
       "      <td>RAC05-24SK/277/W</td>\n",
       "      <td>60.0</td>\n",
       "      <td>VAC</td>\n",
       "      <td>4200</td>\n",
       "      <td>421</td>\n",
       "    </tr>\n",
       "    <tr>\n",
       "      <th>504</th>\n",
       "      <td>RAC05-3.3SK/277</td>\n",
       "      <td>60.0</td>\n",
       "      <td>VAC</td>\n",
       "      <td>4200</td>\n",
       "      <td>422</td>\n",
       "    </tr>\n",
       "  </tbody>\n",
       "</table>\n",
       "<p>505 rows × 5 columns</p>\n",
       "</div>"
      ],
      "text/plain": [
       "          part_number  duration_sec unit  voltage  converter_id\n",
       "0          REM1-0505S          60.0  VDC     5200             1\n",
       "1          REM1-0505S          60.0  VAC     4000             1\n",
       "2          REM1-0512S          60.0  VDC     5200             2\n",
       "3         REM1-053.3S          60.0  VDC     5200             3\n",
       "4         REM1-053.3S          60.0  VAC     4000             3\n",
       "..                ...           ...  ...      ...           ...\n",
       "500  RAC05-05SK/277/W          60.0  VAC     4200           418\n",
       "501  RAC05-12SK/277/W          60.0  VAC     4200           419\n",
       "502  RAC05-15SK/277/W          60.0  VAC     4200           420\n",
       "503  RAC05-24SK/277/W          60.0  VAC     4200           421\n",
       "504   RAC05-3.3SK/277          60.0  VAC     4200           422\n",
       "\n",
       "[505 rows x 5 columns]"
      ]
     },
     "execution_count": 26,
     "metadata": {},
     "output_type": "execute_result"
    }
   ],
   "source": [
    "t.rename(columns={\"id\": \"converter_id\"}).copy()"
   ]
  },
  {
   "cell_type": "code",
   "execution_count": 27,
   "id": "639b36cd-750b-4a21-82ab-529c8a7b0db6",
   "metadata": {},
   "outputs": [],
   "source": [
    "def create_isolation_tests_data(input_data: pd.DataFrame) -> pd.DataFrame:\n",
    "    result = pd.DataFrame(input_data[\"isolation_test_voltage\"].explode())\n",
    "    #result = pd.json_normalize(result)\n",
    "    \n",
    "    return result"
   ]
  },
  {
   "cell_type": "code",
   "execution_count": null,
   "id": "26a724f3-34b3-4f51-bef2-e854ddc31819",
   "metadata": {},
   "outputs": [],
   "source": []
  }
 ],
 "metadata": {
  "kernelspec": {
   "display_name": "Python 3 (ipykernel)",
   "language": "python",
   "name": "python3"
  },
  "language_info": {
   "codemirror_mode": {
    "name": "ipython",
    "version": 3
   },
   "file_extension": ".py",
   "mimetype": "text/x-python",
   "name": "python",
   "nbconvert_exporter": "python",
   "pygments_lexer": "ipython3",
   "version": "3.12.8"
  }
 },
 "nbformat": 4,
 "nbformat_minor": 5
}
