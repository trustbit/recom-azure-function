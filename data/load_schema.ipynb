{
 "cells": [
  {
   "cell_type": "code",
   "execution_count": 4,
   "id": "23e4f278-0cf5-4fb3-9db4-0684c2b13540",
   "metadata": {},
   "outputs": [],
   "source": [
    "from datetime import datetime\n",
    "from init_azure_db import create_tables\n",
    "from sqlalchemy.engine.base import Engine\n",
    "import pandas as pd\n",
    "from connect_mssql import connect_mssql, get_mssql_engine\n",
    "from load_mssql import empty_table, load_table, migrate_table, load_json_data"
   ]
  },
  {
   "cell_type": "code",
   "execution_count": 5,
   "id": "7ab0a151-8ae0-4f63-93d0-3d1ab8cf6a1a",
   "metadata": {},
   "outputs": [],
   "source": [
    "pd.set_option(\"display.max_columns\", 150, \"display.width\", 2000)"
   ]
  },
  {
   "cell_type": "code",
   "execution_count": 6,
   "id": "0f9b9358-c1e3-4484-a168-c5966e3ce9ee",
   "metadata": {},
   "outputs": [],
   "source": [
    "engine = get_mssql_engine()"
   ]
  },
  {
   "cell_type": "code",
   "execution_count": 7,
   "id": "aea107a3-dd98-4048-a58d-15e65038f2c1",
   "metadata": {},
   "outputs": [],
   "source": [
    "df = load_json_data(company=\"recom\")"
   ]
  },
  {
   "cell_type": "markdown",
   "id": "73edcd47-fe95-4e7f-aedb-6cf3f573f123",
   "metadata": {},
   "source": [
    "# create tables"
   ]
  },
  {
   "cell_type": "code",
   "execution_count": 8,
   "id": "64c6f291-92da-42d5-a41b-e262667bd0cd",
   "metadata": {},
   "outputs": [],
   "source": [
    "create_tables(schema=\"recom\")"
   ]
  },
  {
   "cell_type": "markdown",
   "id": "f9d08825-7adc-44db-b3df-82789f052d9c",
   "metadata": {},
   "source": [
    "# create product series"
   ]
  },
  {
   "cell_type": "code",
   "execution_count": 9,
   "id": "3419349e-5d9e-4fee-8ea7-f475e9c416cb",
   "metadata": {},
   "outputs": [],
   "source": [
    "def create_product_series_data(input_data: pd.DataFrame):\n",
    "    result_data = pd.DataFrame(data={\"name\": input_data[\"product_series\"].unique()})\n",
    "\n",
    "    return result_data\n"
   ]
  },
  {
   "cell_type": "code",
   "execution_count": 49,
   "id": "1ed274c0-a10c-4a8c-ae54-49e9ed8cbd1c",
   "metadata": {},
   "outputs": [],
   "source": [
    "def upsert_table(\n",
    "    data: pd.DataFrame, \n",
    "    table_name: str,\n",
    "    column_identifier: str | None = None,\n",
    "    schema: str = \"recom\", \n",
    "    db_engine: Engine = engine\n",
    "):\n",
    "\n",
    "    # get existing products series\n",
    "    df_series = pd.read_sql_table(table_name=table_name, schema=schema, con=db_engine)\n",
    "\n",
    "    # init mask to filter values to be inserted\n",
    "    insert_mask = pd.Series([True] * data.shape[0])\n",
    "\n",
    "    if column_identifier:\n",
    "        # Drop NaN values from the database dataframe\n",
    "        df_series = df_series.dropna(subset=[column_identifier])\n",
    "        \n",
    "        # Create mask to identify non-NaN values in input data\n",
    "        non_na_mask = ~(data[column_identifier].isna())\n",
    "        \n",
    "        # For non-NaN values, check if they exist in df_series\n",
    "        exists_mask = data.loc[non_na_mask, column_identifier].isin(df_series[column_identifier])\n",
    "        \n",
    "        # Final mask: True for rows that should be inserted\n",
    "        # - Either they have NaN in column_identifier (handled by second branch below)\n",
    "        # - Or they have non-NaN value not present in df_series\n",
    "        insert_mask = non_na_mask & ~exists_mask\n",
    "        \n",
    "        # Handle NaN case separately if needed - do you want to insert NaN values?\n",
    "        # Uncomment this if you want to insert rows with NaN identifiers\n",
    "        # na_mask = data[column_identifier].isna()\n",
    "        # insert_mask = insert_mask | na_mask\n",
    "        \n",
    "        data_to_insert = data.loc[insert_mask].copy()\n",
    "    else:\n",
    "        data_diff = data.merge(df_series, how='left', indicator=True)\n",
    "        data_to_insert = data_diff[data_diff['_merge'] == \"left_only\"].drop('_merge', axis=1)\n",
    "        \n",
    "    load_table(data=data_to_insert, table_name=table_name, db_engine=db_engine, schema_name=schema)\n",
    "\n",
    "    return data_to_insert.shape"
   ]
  },
  {
   "cell_type": "code",
   "execution_count": 52,
   "id": "f736b34e-cf97-43f9-905c-de95fd98de44",
   "metadata": {},
   "outputs": [
    {
     "data": {
      "text/plain": [
       "(0, 1)"
      ]
     },
     "execution_count": 52,
     "metadata": {},
     "output_type": "execute_result"
    }
   ],
   "source": [
    "upsert_table(data=create_product_series_data(df), table_name=\"product_series\", column_identifier=\"name\")"
   ]
  },
  {
   "cell_type": "markdown",
   "id": "9943fde0-d068-49c3-8d64-1f0aa2c6cf72",
   "metadata": {},
   "source": [
    "# create certifications"
   ]
  },
  {
   "cell_type": "code",
   "execution_count": 53,
   "id": "83523f77-4776-4c04-8ada-30e2a0a9deba",
   "metadata": {},
   "outputs": [],
   "source": [
    "def create_certifications_data(input_data: pd.DataFrame) -> pd.DataFrame:\n",
    "\n",
    "    result = pd.DataFrame(data={\"name\": input_data[\"certifications\"].explode().unique()})\n",
    "    result[\"name\"] = result[\"name\"].str.strip()\n",
    "    result[\"name\"] = result[\"name\"].str.lower()\n",
    "    \n",
    "    return result.drop_duplicates(subset=\"name\")"
   ]
  },
  {
   "cell_type": "code",
   "execution_count": 54,
   "id": "ea440749-32b6-4059-bcb5-eab48b69f3ec",
   "metadata": {},
   "outputs": [],
   "source": [
    "t = create_certifications_data(df)"
   ]
  },
  {
   "cell_type": "code",
   "execution_count": 55,
   "id": "d03a8d48-90d9-482d-a7bf-7358b156d463",
   "metadata": {},
   "outputs": [],
   "source": [
    "t = t.dropna(subset='name')"
   ]
  },
  {
   "cell_type": "code",
   "execution_count": 56,
   "id": "2bc3130b-e170-4eda-9339-0c8d280b8e3c",
   "metadata": {},
   "outputs": [
    {
     "data": {
      "text/plain": [
       "name    0\n",
       "dtype: int64"
      ]
     },
     "execution_count": 56,
     "metadata": {},
     "output_type": "execute_result"
    }
   ],
   "source": [
    "t.isna().sum()"
   ]
  },
  {
   "cell_type": "code",
   "execution_count": 57,
   "id": "c7eb58ce-862d-40fb-9002-9384d3745555",
   "metadata": {},
   "outputs": [
    {
     "data": {
      "text/plain": [
       "(0, 1)"
      ]
     },
     "execution_count": 57,
     "metadata": {},
     "output_type": "execute_result"
    }
   ],
   "source": [
    "upsert_table(data=t, table_name=\"certifications\", column_identifier=\"name\")"
   ]
  },
  {
   "cell_type": "markdown",
   "id": "8372e4b9-981a-4b09-8a51-159c3cd14244",
   "metadata": {},
   "source": [
    "# create protections"
   ]
  },
  {
   "cell_type": "code",
   "execution_count": 58,
   "id": "8a42647a-51de-4d78-8e1b-bb745c2f1a89",
   "metadata": {},
   "outputs": [],
   "source": [
    "def create_protections_data(input_data: pd.DataFrame) -> pd.DataFrame:\n",
    "    result_data = pd.DataFrame(data={\"name\": input_data[\"protections\"].explode().unique()})\n",
    "    result_data[\"name\"] = result_data[\"name\"].str.strip()\n",
    "    result_data[\"name\"] = result_data[\"name\"].str.lower()\n",
    "    result_data = result_data.drop_duplicates(subset=\"name\")\n",
    "\n",
    "    return result_data.loc[~result_data[\"name\"].isna()]"
   ]
  },
  {
   "cell_type": "code",
   "execution_count": 59,
   "id": "758ba11e-f575-4b85-ac13-d602138fda64",
   "metadata": {},
   "outputs": [
    {
     "data": {
      "text/plain": [
       "(0, 1)"
      ]
     },
     "execution_count": 59,
     "metadata": {},
     "output_type": "execute_result"
    }
   ],
   "source": [
    "upsert_table(data=create_protections_data(df), table_name=\"protections\", column_identifier=\"name\")"
   ]
  },
  {
   "cell_type": "code",
   "execution_count": 60,
   "id": "3a8b2b11-6ad3-477b-9513-ae895a0dfcc7",
   "metadata": {},
   "outputs": [
    {
     "data": {
      "text/plain": [
       "Index(['product_series', 'part_number', 'converter_type', 'ac_voltage_input_min', 'ac_voltage_input_max', 'dc_voltage_input_min', 'dc_voltage_input_max', 'input_voltage_tolerance', 'power', 'is_regulated', 'regulation_voltage_range', 'efficiency', 'isolation_test_voltage', 'voltage_output_1', 'voltage_output_2', 'voltage_output_3', 'i_out1', 'i_out2', 'i_out3', 'output_type', 'pins', 'package', 'packaging_type', 'dimensions', 'certifications', 'protections', 'operating_temperature', 'power_derating', 'company'], dtype='object')"
      ]
     },
     "execution_count": 60,
     "metadata": {},
     "output_type": "execute_result"
    }
   ],
   "source": [
    "df.columns"
   ]
  },
  {
   "cell_type": "markdown",
   "id": "01d0a053-c3fa-42bd-8aaf-86cfbb676774",
   "metadata": {},
   "source": [
    "# create converters"
   ]
  },
  {
   "cell_type": "code",
   "execution_count": 61,
   "id": "cf9ec8a2-6988-4de8-ab34-d008e0d44d76",
   "metadata": {},
   "outputs": [],
   "source": [
    "def create_converters_data(input_data: pd.DataFrame, company: str, schema: str=\"recom\", db_engine: Engine=engine) -> pd.DataFrame:\n",
    "    result = df.copy()\n",
    "\n",
    "    product_series_df = pd.read_sql_table(table_name=\"product_series\", schema=schema, con=db_engine)\n",
    "    product_series_df = product_series_df.rename(columns={\"id\": \"product_series_id\"})\n",
    "\n",
    "    # join the product series table to get DB id from schema\n",
    "    result = result.merge(product_series_df, left_on=\"product_series\", right_on=\"name\", how=\"left\")\n",
    "    # drop redundant name col\n",
    "    result = result.drop(columns=[\"product_series\", \"name\"])\n",
    "    \n",
    "    result[\"pin_count\"] = result[\"pins\"].map(len)\n",
    "\n",
    "    for k in [\"mounting_type\", \"connection_type\"]:\n",
    "        result[k] = result[\"package\"].map(lambda x: x.get(k) if x is not None else None)\n",
    "    \n",
    "    for k in [\"unit\", \"length\", \"width\", \"height\"]:\n",
    "        result[f\"dimensions_{k}\"] = result[\"dimensions\"].map(lambda x: x.get(k) if x is not None else None)    \n",
    "    \n",
    "    for k in [\"min\", \"max\"]:\n",
    "        result[f\"operating_temp_{k}\"] = result[\"operating_temperature\"].map(lambda x: x.get(k) if x is not None else None)\n",
    "    \n",
    "    result['company'] = company\n",
    "\n",
    "    result[\"created_at\"] = datetime.now()\n",
    "    result[\"updated_at\"] = datetime.now()\n",
    "\n",
    "    res_columns = [\n",
    "        \"company\", \n",
    "        \"product_series_id\",\n",
    "        \"part_number\",\n",
    "        \"converter_type\",\n",
    "        \"ac_voltage_input_min\",\n",
    "        \"ac_voltage_input_max\",\n",
    "        \"dc_voltage_input_min\",\n",
    "        \"dc_voltage_input_max\",\n",
    "        \"input_voltage_tolerance\",\n",
    "        \"power\",\n",
    "        \"is_regulated\",\n",
    "        \"regulation_voltage_range\",\n",
    "        \"efficiency\",\n",
    "        \"voltage_output_1\",\n",
    "        \"voltage_output_2\",\n",
    "        \"voltage_output_3\",\n",
    "        \"i_out1\",\n",
    "        \"i_out2\",\n",
    "        \"i_out3\",\n",
    "        \"output_type\",\n",
    "        \"pin_count\",\n",
    "        \"mounting_type\",\n",
    "        \"connection_type\",\n",
    "        \"dimensions_unit\",\n",
    "        \"dimensions_length\",\n",
    "        \"dimensions_width\",\n",
    "        \"dimensions_height\",\n",
    "        \"operating_temp_min\",\n",
    "        \"operating_temp_max\",\n",
    "        \"created_at\",\n",
    "        \"updated_at\"\n",
    "    ]\n",
    "        \n",
    "\n",
    "    return result[res_columns].copy().drop_duplicates(subset=\"part_number\")\n",
    "\n",
    "    "
   ]
  },
  {
   "cell_type": "code",
   "execution_count": 62,
   "id": "e7751cba-e921-4923-974c-50187bf15bb9",
   "metadata": {},
   "outputs": [],
   "source": [
    "t = create_converters_data(df, company='recom')"
   ]
  },
  {
   "cell_type": "code",
   "execution_count": 63,
   "id": "69a86fcb-7a52-41e9-b865-9c6e1a3dab67",
   "metadata": {},
   "outputs": [
    {
     "data": {
      "text/plain": [
       "(0, 31)"
      ]
     },
     "execution_count": 63,
     "metadata": {},
     "output_type": "execute_result"
    }
   ],
   "source": [
    "upsert_table(data=t, table_name=\"converters\", column_identifier=\"part_number\", schema=\"recom\")"
   ]
  },
  {
   "cell_type": "markdown",
   "id": "51547feb-85e6-475b-a572-40f51ed4ebe3",
   "metadata": {},
   "source": [
    "# helper functions f. normalization"
   ]
  },
  {
   "cell_type": "code",
   "execution_count": 64,
   "id": "6e2f4736-7d43-4200-87b5-afe38a6d1cb8",
   "metadata": {},
   "outputs": [],
   "source": [
    "def expand_list_of_dicts(df, column_name):\n",
    "\n",
    "    # Explode column with lists of dicts\n",
    "    exploded_df = df.explode(column_name)\n",
    "    \n",
    "    # Normalize the dictionaries into columns and drop\n",
    "    normalized = pd.json_normalize(exploded_df[column_name])\n",
    "    exploded_df = exploded_df.drop(column_name, axis=1)\n",
    "    \n",
    "    # Concatenate original df with the normalized dictionaries\n",
    "    result = pd.concat([exploded_df.reset_index(drop=True), normalized], axis=1)\n",
    "    \n",
    "    return result"
   ]
  },
  {
   "cell_type": "code",
   "execution_count": 65,
   "id": "1669cc11-02b3-4966-8d09-729e7c5aad27",
   "metadata": {},
   "outputs": [],
   "source": [
    "def map_converter_id(\n",
    "    input_data: pd.DataFrame, \n",
    "    db_engine: Engine = engine,\n",
    "    mapping_column_name: str = \"part_number\",\n",
    "    schema_name: str = \"recom\"\n",
    ") -> pd.DataFrame:\n",
    "\n",
    "    mapping_df = pd.read_sql_table(table_name='converters', con=engine, schema=schema_name)\n",
    "\n",
    "    result = input_data.merge(mapping_df[[\"part_number\", \"id\"]], left_on=mapping_column_name, right_on=\"part_number\", how=\"left\")\n",
    "    result = result.copy()\n",
    "    # result = result.rename(columns={\"id\", \"converter_id\"})\n",
    "\n",
    "    return result.rename(columns={\"id\": \"converter_id\"}).copy()"
   ]
  },
  {
   "cell_type": "markdown",
   "id": "3cd96cf4-788f-4c67-9a38-c9c5f4d5775b",
   "metadata": {},
   "source": [
    "# isolation test"
   ]
  },
  {
   "cell_type": "code",
   "execution_count": 66,
   "id": "c11de55c-9a33-4664-a486-e1e31623cb6a",
   "metadata": {},
   "outputs": [],
   "source": [
    "t = expand_list_of_dicts(df[[\"isolation_test_voltage\", \"part_number\"]], \"isolation_test_voltage\")"
   ]
  },
  {
   "cell_type": "code",
   "execution_count": 67,
   "id": "ee792a24-0264-478b-81d1-84507c75ed5b",
   "metadata": {},
   "outputs": [],
   "source": [
    "t = map_converter_id(t)"
   ]
  },
  {
   "cell_type": "code",
   "execution_count": 68,
   "id": "f353f149-6df8-45bd-b54e-34bd7f367a33",
   "metadata": {},
   "outputs": [
    {
     "data": {
      "text/html": [
       "<div>\n",
       "<style scoped>\n",
       "    .dataframe tbody tr th:only-of-type {\n",
       "        vertical-align: middle;\n",
       "    }\n",
       "\n",
       "    .dataframe tbody tr th {\n",
       "        vertical-align: top;\n",
       "    }\n",
       "\n",
       "    .dataframe thead th {\n",
       "        text-align: right;\n",
       "    }\n",
       "</style>\n",
       "<table border=\"1\" class=\"dataframe\">\n",
       "  <thead>\n",
       "    <tr style=\"text-align: right;\">\n",
       "      <th></th>\n",
       "      <th>part_number</th>\n",
       "      <th>duration_sec</th>\n",
       "      <th>unit</th>\n",
       "      <th>voltage</th>\n",
       "      <th>converter_id</th>\n",
       "    </tr>\n",
       "  </thead>\n",
       "  <tbody>\n",
       "    <tr>\n",
       "      <th>0</th>\n",
       "      <td>REM1-0505S</td>\n",
       "      <td>60.0</td>\n",
       "      <td>VDC</td>\n",
       "      <td>5200</td>\n",
       "      <td>1</td>\n",
       "    </tr>\n",
       "    <tr>\n",
       "      <th>1</th>\n",
       "      <td>REM1-0505S</td>\n",
       "      <td>60.0</td>\n",
       "      <td>VAC</td>\n",
       "      <td>4000</td>\n",
       "      <td>1</td>\n",
       "    </tr>\n",
       "    <tr>\n",
       "      <th>2</th>\n",
       "      <td>REM1-0512S</td>\n",
       "      <td>60.0</td>\n",
       "      <td>VDC</td>\n",
       "      <td>5200</td>\n",
       "      <td>2</td>\n",
       "    </tr>\n",
       "    <tr>\n",
       "      <th>3</th>\n",
       "      <td>REM1-053.3S</td>\n",
       "      <td>60.0</td>\n",
       "      <td>VDC</td>\n",
       "      <td>5200</td>\n",
       "      <td>3</td>\n",
       "    </tr>\n",
       "    <tr>\n",
       "      <th>4</th>\n",
       "      <td>REM1-053.3S</td>\n",
       "      <td>60.0</td>\n",
       "      <td>VAC</td>\n",
       "      <td>4000</td>\n",
       "      <td>3</td>\n",
       "    </tr>\n",
       "    <tr>\n",
       "      <th>...</th>\n",
       "      <td>...</td>\n",
       "      <td>...</td>\n",
       "      <td>...</td>\n",
       "      <td>...</td>\n",
       "      <td>...</td>\n",
       "    </tr>\n",
       "    <tr>\n",
       "      <th>500</th>\n",
       "      <td>RAC05-05SK/277/W</td>\n",
       "      <td>60.0</td>\n",
       "      <td>VAC</td>\n",
       "      <td>4200</td>\n",
       "      <td>418</td>\n",
       "    </tr>\n",
       "    <tr>\n",
       "      <th>501</th>\n",
       "      <td>RAC05-12SK/277/W</td>\n",
       "      <td>60.0</td>\n",
       "      <td>VAC</td>\n",
       "      <td>4200</td>\n",
       "      <td>419</td>\n",
       "    </tr>\n",
       "    <tr>\n",
       "      <th>502</th>\n",
       "      <td>RAC05-15SK/277/W</td>\n",
       "      <td>60.0</td>\n",
       "      <td>VAC</td>\n",
       "      <td>4200</td>\n",
       "      <td>420</td>\n",
       "    </tr>\n",
       "    <tr>\n",
       "      <th>503</th>\n",
       "      <td>RAC05-24SK/277/W</td>\n",
       "      <td>60.0</td>\n",
       "      <td>VAC</td>\n",
       "      <td>4200</td>\n",
       "      <td>421</td>\n",
       "    </tr>\n",
       "    <tr>\n",
       "      <th>504</th>\n",
       "      <td>RAC05-3.3SK/277</td>\n",
       "      <td>60.0</td>\n",
       "      <td>VAC</td>\n",
       "      <td>4200</td>\n",
       "      <td>422</td>\n",
       "    </tr>\n",
       "  </tbody>\n",
       "</table>\n",
       "<p>505 rows × 5 columns</p>\n",
       "</div>"
      ],
      "text/plain": [
       "          part_number  duration_sec unit  voltage  converter_id\n",
       "0          REM1-0505S          60.0  VDC     5200             1\n",
       "1          REM1-0505S          60.0  VAC     4000             1\n",
       "2          REM1-0512S          60.0  VDC     5200             2\n",
       "3         REM1-053.3S          60.0  VDC     5200             3\n",
       "4         REM1-053.3S          60.0  VAC     4000             3\n",
       "..                ...           ...  ...      ...           ...\n",
       "500  RAC05-05SK/277/W          60.0  VAC     4200           418\n",
       "501  RAC05-12SK/277/W          60.0  VAC     4200           419\n",
       "502  RAC05-15SK/277/W          60.0  VAC     4200           420\n",
       "503  RAC05-24SK/277/W          60.0  VAC     4200           421\n",
       "504   RAC05-3.3SK/277          60.0  VAC     4200           422\n",
       "\n",
       "[505 rows x 5 columns]"
      ]
     },
     "execution_count": 68,
     "metadata": {},
     "output_type": "execute_result"
    }
   ],
   "source": [
    "t.rename(columns={\"id\": \"converter_id\"}).copy()"
   ]
  },
  {
   "cell_type": "code",
   "execution_count": 69,
   "id": "639b36cd-750b-4a21-82ab-529c8a7b0db6",
   "metadata": {},
   "outputs": [],
   "source": [
    "def create_isolation_tests_data(input_data: pd.DataFrame) -> pd.DataFrame:\n",
    "\n",
    "    result = expand_list_of_dicts(input_data[[\"isolation_test_voltage\", \"part_number\"]], \"isolation_test_voltage\")\n",
    "    result = map_converter_id(result)\n",
    "\n",
    "    return result[[\"converter_id\", \"duration_sec\", \"unit\", \"voltage\"]].copy()"
   ]
  },
  {
   "cell_type": "code",
   "execution_count": 71,
   "id": "c1dc2f00-9ffc-4f92-b897-dc0b87bf5dda",
   "metadata": {},
   "outputs": [
    {
     "data": {
      "text/plain": [
       "(0, 5)"
      ]
     },
     "execution_count": 71,
     "metadata": {},
     "output_type": "execute_result"
    }
   ],
   "source": [
    "upsert_table(data=create_isolation_tests_data(df), table_name=\"isolation_tests\")"
   ]
  },
  {
   "cell_type": "markdown",
   "id": "4acee351-d632-43f1-af51-2186f728ad22",
   "metadata": {},
   "source": [
    "# pins"
   ]
  },
  {
   "cell_type": "code",
   "execution_count": 73,
   "id": "62cb40e8-3e86-42e7-9a9a-9202c441bdf2",
   "metadata": {},
   "outputs": [],
   "source": [
    "def create_pins_data(input_data: pd.DataFrame) -> pd.DataFrame:\n",
    "\n",
    "    result = expand_list_of_dicts(input_data[[\"part_number\", \"pins\"]], \"pins\")\n",
    "    result = map_converter_id(result)\n",
    "\n",
    "    result = result.rename(columns={\"type\": \"pin_type\"})\n",
    "    result = result.drop(columns=[\"part_number\"])\n",
    "    result = result.copy()\n",
    "    \n",
    "    return result[[\"converter_id\", \"pin_id\", \"pin_type\"]]"
   ]
  },
  {
   "cell_type": "code",
   "execution_count": 78,
   "id": "4c81227c-a4e6-450e-8244-9551988680a3",
   "metadata": {},
   "outputs": [],
   "source": [
    "empty_table(table_name='pins', schema_name=\"recom\")"
   ]
  },
  {
   "cell_type": "code",
   "execution_count": 79,
   "id": "c0a6ce99-58c7-422a-8f7c-66215a176454",
   "metadata": {},
   "outputs": [
    {
     "data": {
      "text/plain": [
       "(2597, 4)"
      ]
     },
     "execution_count": 79,
     "metadata": {},
     "output_type": "execute_result"
    }
   ],
   "source": [
    "upsert_table(data=create_pins_data(df), table_name=\"pins\")"
   ]
  },
  {
   "cell_type": "markdown",
   "id": "2581432d-5f1f-452b-b629-fd4efa854f67",
   "metadata": {},
   "source": [
    "# power derating"
   ]
  },
  {
   "cell_type": "code",
   "execution_count": 80,
   "id": "d6d1a465-0487-4691-bc7b-1fdd6d4e5d84",
   "metadata": {},
   "outputs": [
    {
     "data": {
      "text/plain": [
       "Index(['product_series', 'part_number', 'converter_type', 'ac_voltage_input_min', 'ac_voltage_input_max', 'dc_voltage_input_min', 'dc_voltage_input_max', 'input_voltage_tolerance', 'power', 'is_regulated', 'regulation_voltage_range', 'efficiency', 'isolation_test_voltage', 'voltage_output_1', 'voltage_output_2', 'voltage_output_3', 'i_out1', 'i_out2', 'i_out3', 'output_type', 'pins', 'package', 'packaging_type', 'dimensions', 'certifications', 'protections', 'operating_temperature', 'power_derating', 'company'], dtype='object')"
      ]
     },
     "execution_count": 80,
     "metadata": {},
     "output_type": "execute_result"
    }
   ],
   "source": [
    "df.columns"
   ]
  },
  {
   "cell_type": "code",
   "execution_count": 83,
   "id": "5fb023d7-ec29-4dc9-afde-00b2c67726b9",
   "metadata": {},
   "outputs": [
    {
     "data": {
      "text/plain": [
       "[{'threshold': {'temperature': 85, 'unit': 'C'}, 'unit': '%', 'rate': 0.0}]"
      ]
     },
     "execution_count": 83,
     "metadata": {},
     "output_type": "execute_result"
    }
   ],
   "source": [
    "df['power_derating'].values[0]"
   ]
  },
  {
   "cell_type": "code",
   "execution_count": 96,
   "id": "b0b78036-444e-4af7-8b6a-9aa3d3498f90",
   "metadata": {},
   "outputs": [],
   "source": [
    "def create_derating_data(input_data: pd.DataFrame) -> pd.DataFrame:\n",
    "\n",
    "    result = expand_list_of_dicts(input_data[['power_derating', 'part_number']], 'power_derating')\n",
    "    result = map_converter_id(result)\n",
    "    result = result.drop(columns=[\"part_number\"])\n",
    "\n",
    "    result = result.rename(columns={\"threshold.temperature\": \"threshold_temperature\", \"threshold.unit\": \"threshold_unit\"})\n",
    "\n",
    "    result = result[[\"converter_id\", \"threshold_temperature\", \"threshold_unit\", \"unit\", \"rate\"]].copy()\n",
    "\n",
    "    return result"
   ]
  },
  {
   "cell_type": "code",
   "execution_count": 98,
   "id": "eb7be5ad-ac2e-469a-92f4-f2871d106d3d",
   "metadata": {},
   "outputs": [
    {
     "data": {
      "text/plain": [
       "(0, 6)"
      ]
     },
     "execution_count": 98,
     "metadata": {},
     "output_type": "execute_result"
    }
   ],
   "source": [
    "upsert_table(data=create_derating_data(df), table_name=\"power_derating\")"
   ]
  },
  {
   "cell_type": "code",
   "execution_count": null,
   "id": "6e4120bb-bc78-47c8-80d9-442061e2dc3e",
   "metadata": {},
   "outputs": [],
   "source": []
  }
 ],
 "metadata": {
  "kernelspec": {
   "display_name": "Python 3 (ipykernel)",
   "language": "python",
   "name": "python3"
  },
  "language_info": {
   "codemirror_mode": {
    "name": "ipython",
    "version": 3
   },
   "file_extension": ".py",
   "mimetype": "text/x-python",
   "name": "python",
   "nbconvert_exporter": "python",
   "pygments_lexer": "ipython3",
   "version": "3.12.8"
  }
 },
 "nbformat": 4,
 "nbformat_minor": 5
}
