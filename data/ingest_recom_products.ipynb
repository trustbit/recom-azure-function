{
 "cells": [
  {
   "metadata": {
    "ExecuteTime": {
     "end_time": "2025-05-22T14:05:23.537948Z",
     "start_time": "2025-05-22T14:05:23.535386Z"
    }
   },
   "cell_type": "code",
   "source": [
    "import pathlib\n",
    "import pandas as pd\n",
    "import numpy as np\n",
    "from openai import file_from_path\n",
    "from typing import Any\n",
    "import json\n",
    "\n",
    "from sqlalchemy import result_tuple\n",
    "\n",
    "from load_schema import upsert_table, load_json_data\n",
    "from connect_mssql import connect_mssql, create_engine\n"
   ],
   "id": "a38e9185072692a3",
   "outputs": [],
   "execution_count": 50
  },
  {
   "metadata": {
    "ExecuteTime": {
     "end_time": "2025-05-22T11:56:43.424535Z",
     "start_time": "2025-05-22T11:56:43.422621Z"
    }
   },
   "cell_type": "code",
   "source": [
    "def load_products(path: pathlib.Path) -> list[dict[str, Any]]:\n",
    "    products = []\n",
    "\n",
    "    for file in path.iterdir():\n",
    "        print(file.name)\n",
    "        if file.name.startswith(\"_cache\"):\n",
    "            print(f\"skipping : {file.name}\")\n",
    "            continue\n",
    "        try:\n",
    "            with open(file, \"r\") as f:\n",
    "                items = json.load(f)\n",
    "\n",
    "            products.extend(items['answer'][\"power_converters\"])\n",
    "        except (json.JSONDecodeError, FileNotFoundError):\n",
    "            continue\n",
    "\n",
    "    return products\n"
   ],
   "id": "2e298eb38c01d001",
   "outputs": [],
   "execution_count": 2
  },
  {
   "metadata": {
    "ExecuteTime": {
     "end_time": "2025-05-22T11:56:43.474105Z",
     "start_time": "2025-05-22T11:56:43.459458Z"
    }
   },
   "cell_type": "code",
   "source": "db_data = load_json_data(company='recom')",
   "id": "685d8ea82130056a",
   "outputs": [],
   "execution_count": 3
  },
  {
   "metadata": {
    "ExecuteTime": {
     "end_time": "2025-05-22T11:56:43.484425Z",
     "start_time": "2025-05-22T11:56:43.481696Z"
    }
   },
   "cell_type": "code",
   "source": [
    "mornsun_data_path = pathlib.Path.cwd().parent.parent / \"simplify-recom\" / \"simplified-src\" / \"mornsun\" / \"data\"\n",
    "mornsun_data_path.exists()"
   ],
   "id": "ddda9f0e32781989",
   "outputs": [
    {
     "data": {
      "text/plain": [
       "True"
      ]
     },
     "execution_count": 4,
     "metadata": {},
     "output_type": "execute_result"
    }
   ],
   "execution_count": 4
  },
  {
   "metadata": {
    "ExecuteTime": {
     "end_time": "2025-05-22T11:56:43.642548Z",
     "start_time": "2025-05-22T11:56:43.495533Z"
    }
   },
   "cell_type": "code",
   "source": "mornsun_data = load_products(mornsun_data_path)",
   "id": "bca0bb2c33fc437f",
   "outputs": [
    {
     "name": "stdout",
     "output_type": "stream",
     "text": [
      "cache_191f10ab93b003be324a4d58c5268d6a124bc2ff.json\n",
      "cache_3af6625c476e65c22b5461ca87854d674614720f.json\n",
      "2bf8532698d215cc8bff232101e7300f2e55a75d3a933ebee6f4257f0bcd763b.json\n",
      "f225113df7f82e52c9c92bb31560d9f0af700aca9f81a21bb74ae600239397de.json\n",
      "cache_64fd84e62463044eda59021b2b80b19cb9bd0194.json\n",
      "1c32ad41a91838acb6ed7fc48846f4badea2b7509b1332fec031b960f64eb9b6.json\n",
      "cache_0fd0d299966f2cb716000e9eeb10a8039830807e.json\n",
      "cache_d98098fabf8ef509b337b96d20bdefd3f8c298da.json\n",
      "b1d4f516bff7f043dea79b0d868f738464ed954bc6935799b4dd1d1595017bc9.json\n",
      "eca3b136a2ea7953e31796fd82eaab7229f6d8a2b28290e0a6577fdf4936bb8c.json\n",
      "6ee7bfcd769702f1fe17d460929a727160079d260b90db727590b37ab0433308.json\n",
      "cache_7d74785a3d0248be83777ef6a1d45900e915b64e.json\n",
      "cache_d7505e9f3937020bb0cc9445e02c5345393bd7e2.json\n",
      "1d5dca8f8cd85a8dceae6f2be0a475f29bf61de9cda250f951171c4aac94da10.json\n",
      "d3712a16f7a0f2880bc10cbdab9290a7b29f660146b875ba871e11f5feb7a0a3.json\n",
      "54a0f97e2eed8b3a46d70a34c2e3b0fd9dddbb36fd00d9abf8868a09456cbb98.json\n",
      "cache_b0527c0e72e9eaa6cede626392002a207664fcd3.json\n",
      "cache_a50dd9378c002babf95d205e5e26fb66942e0bb4.json\n",
      "f30c0d1939942c0333b475d48a27749dd9a7ae100c97a78c6ebbb832fa69ea82.json\n",
      "cache_b89ecc3c9124d8178bbaddea023838d8bb75da27.json\n",
      "3569950113b9eb9fa4be9c64b6355cc917395e3f5d9e1110d949457ccdf06aad.json\n",
      "cache_25abc81af4ea02a498996ab76daf0283d544103e.json\n",
      "a910488e4063b08a12537b8c04682904dfc110db2acd34ad98061c51213c7220.json\n",
      "cache_e482d91783cabaa72207eede994bfbfddbec71ab.json\n",
      "cache_1914a0c221b9ff175aa588be6c0cfc3776250043.json\n",
      "cache_6e361f10141da37f9178a92f7b63948c1eea5240.json\n",
      "ac58d10423c2636e82c22256eb57879c49af06ba666ec05dc84327577ee40edb.json\n",
      "dce564e9c07c1b6859ef38e96ee433e5b547ef84b94432fd876afe5400d0d826.json\n",
      "aec23fff49f66af91c51b1e91a98f0e658480da5761c4f0b200cb924b2adcbe6.json\n",
      "cache_be1c586dbe92cdd8953a99ea72b12ac1511c4ce3.json\n",
      "cache_8b8d70c1cea73a4b62e8093959141278d2b506fc.json\n",
      "46f0db9f23cc40e0956a964f4cfbc4ef1a26651ae0a3a2b2cf2ae7065dde7c84.json\n",
      "b19c6f13fe9ce60842286bf4336abaf043c42160e8afdaecbfb4fa7211454d2b.json\n",
      "f3c853f264541072d702a0ebdfaf5b8708785e5abfa5f085af3bcddceed0ccda.json\n",
      "43f1104f8ce6997c2fc6175ddb94c79a8d4fb521131d3c14e731dbf4301d5cba.json\n",
      "cache_f65e66bcfc39b4573ff6e35194e0a6992fced2f5.json\n",
      "cache_3301aa963abad6cdf3cfbb5707a59a1ec3382c79.json\n",
      "cache_f16fb268d121693fcf0e53c08e1f549f40fdf770.json\n",
      "86a747dc71a36d9b66557c6e787584c0e698adbd6af3761e0b178cb85ac7cf63.json\n",
      "cache_10f0d2a0dd4bd59d9aaa6c36489fcf5776fe12bc.json\n",
      "2e23ea7001892fb405c8800da48c3d6083c3b7b835fdc8b77d463b1ae387e3e7.json\n",
      "4f3f0658e974d20e4604e01a2c5082a4e64bad9a4041193c66841efe6a655fe6.json\n",
      "8e735a2389994ad226cf0a9d4174c53c491f57658a686d1bbab1d8c694520e54.json\n",
      "cache_503e2ac267c62dbb67d0dc34cdc6d2141242e662.json\n",
      "cache_3529974e060556a3078138bccf9a6cb9b4fbeb03.json\n",
      "cache_375d1edbf94c37377783fe68c2f21a58dc2706fd.json\n",
      "9c7fe2fb9230aa8c96d26de7c958c3f4619aa07bba3d9fcd67a1137ceebcf0f5.json\n",
      "cache_ca4d94b6ac08dad19d8d26cfefa8604093eb489f.json\n",
      "cache_e8733ed81e5656180311d764b64d0c0cd4458cd6.json\n",
      "cache_131fb7908e579d2b8e6a1dcd6ba865f6c8be99bb.json\n",
      "cache_c83a97489f0ea1a8602844a69c3cb02a07a26eb0.json\n",
      "cache_015ae9595cad9004c5a6d4dfe183dffbe76aa8dd.json\n",
      "9194d19cc7fbcaf331687e95c681a0b7b9c5fa88bf6f41cef6410696bcc2e36e.json\n",
      "ddf629e6070a48eeb80be627a053d5e293fa596ce9aa9a8f499efc5505249c01.json\n",
      "d3706ec4c48fd2aff07ce2020a9d6a1eea833d2ca1191c1d9f7cc5bd95700f77.json\n",
      "cache_3fa5b8800670713d3d965d1e2f86944be7d129d9.json\n",
      "01d3d506430de6a617e60aee25b95b11762f60e8102a9a23b05e3973945b8a01.json\n",
      "cache_2a77e57415b556de166489ce5e5ad08f816334b0.json\n",
      "cache_f51cd11c111e77781a9104982f565bd4c3c0236f.json\n",
      "cache_d94c5a26ca7802e824ec177a5bbb4fc3469cdfc6.json\n",
      "cache_7644dbcaf1e8458a2187f684a166c907906e0559.json\n",
      "cache_2ead8ab7c585d02f4c6c0eaf9dc1e8d9f59b0cf3.json\n",
      "cache_d62975bad7470556b369894fd56e4992e54ed953.json\n",
      "cache_5a475ec66b762e51f6e2fa2658ce779cbb55748f.json\n",
      "cache_b987f8f5e6ea9a6749ca263d890c1e1d2db93ebb.json\n",
      "04aa03a8e5ac45868b7ece813bb511b02cedb20516c9d8bd238fa6228c11fe7d.json\n",
      "cache_9213de0c6a726530ebaf99ff3501539c9ff76d8d.json\n",
      "701a175e1be5c3e43eab6465cac85ad343356558b1182c31a126ab93c3d88a53.json\n",
      "cache_279cccec9f8416523cfb6e895cde64a28a9937d7.json\n",
      "cache_30a4d59a2416dd1b64edf889bebe3a3deaa6c632.json\n",
      "d8687726981c2d61b597e0bc695c4e46bc74f9ebd50eaa3df12ef4d27e340cf3.json\n",
      "4dabe2220880aeb8ce26f5c66f1e00886214b418c5a8d094f22f3b5abcedb7ee.json\n",
      "cache_4930998add7900fb6478e458f25dbde2b428ea91.json\n",
      "3604130fdcf66424d3168548b3308d0d0642c1a33d09722b1e8680e847ebaab3.json\n",
      "ea466a5e382c019eb5311d44ba8b4dc2568a0b67b8acbede9036c2205c5c6e36.json\n",
      "46af82670f52a549235d5ed06bbdb1dfbf26e1b9faca93abd8ec9fb3aa13626a.json\n",
      "928c07b3c57fc7e547b5e0c6edbd7a5ff93887bf94f1708921db253b29052a8e.json\n",
      "1029505fc7c03f4cccdf61a8425942ef82a489cadd75c1669a4185aa483b9449.json\n",
      "3cbd8c8295b0ef003d02a61ffe60bbbb99e1345a6a050dc65e95bd448c9c1e46.json\n",
      "2f5bdff471fae213dbf6e6324f97bb22b960d4e21889ebb93f4e84c148e44793.json\n",
      "cache_d67cce42b2dc2e6ecb28543a41a135713ef8ea08.json\n",
      "5bf3653415d9e086e457c8803f9696d3a8f69ee68c16a475c66d3c2a6d9abbed.json\n",
      "33979b4ca3d4ab3595bc2a8a5e45be1b201b6513c3177fd1b57c6e36a1164f9c.json\n",
      "cache_b475b6f01d1eb827d24977dc40b7937edd24c0a8.json\n",
      "cache_74cc81e12c3ba95a0598eb72377c651a72a58d8e.json\n",
      "ba67a34fb9ac9dd89e35a715d516c967a6a080de682b7e57ae429efdc61df625.json\n",
      "2072947fd7fbbd3d31fb8455fce9f62751ff3b7082f4a9687ecb6ce4ff8a689a.json\n",
      "395ee10a3d2f7813b469b7e09b5423c0ea88cabba74b0e96c0ef77998d7e7b0d.json\n",
      "78356db8a868c0a2f187db1bbf0da6d5bbb5ad6d48a9771455f88d99d9b79018.json\n",
      "e02331886c441f07d9314ef24c93f3492475b1834aab3b2bac1470a7c6a3729b.json\n",
      "af7972841e148821fc388c07d8d9b0c49cbcfe5d194e1fd1576423ce67563f53.json\n",
      "8faf5431252348d3f19113fdc3a8f386f1933564ee39395d9d48765010ef3e9a.json\n",
      "cache_ef2d660187b9dc703acb63def8945fe5415b95d7.json\n",
      "cache_2801af28078b9b9be4938df19cd476cf5ae1942d.json\n",
      "cache_6981633420b1e76625cb472adb64dd9572bd60b6.json\n",
      "484e7a8b510598d30975f467e34945e06978caf7f2bb02af26e004b796dcd5dd.json\n",
      "d86beb2b0e6c2be4b616923651bffb574ca2650b4253fb166a8a772bda0eaa16.json\n",
      "cache_e56970af28f5a0702de51eb77369b2842d9a876d.json\n",
      "cache_49869353bd67bec513a02c058a22ff5240293539.json\n",
      "cache_c5fb5ab703c7f7c88abaeb201a8ac99fcf706967.json\n",
      "3b6c0b00c1e16edac27861f8c0c078b2066a685a9e9b892ae66be704b190cb73.json\n",
      "774b90a010671a33fea28604485ff0fa14a07bd07fc4b0073c49812468984c9e.json\n",
      "6c8d15bcce8c584467f25e25bdb8da73ba4a02f346a0c0d121c1b497ec116f24.json\n",
      "cache_c9f69d00e4127f66e4d0e724f6140a85f0d5b70b.json\n",
      "cache_831496a4e59348e1b8eb2e09262e3c9e35faaa2b.json\n",
      "af3912d27b2e42db2a3cef92a648de783ff7a32056ef42985469e95663f5a426.json\n",
      "777c3c1739c033647f8ca11527a9dbb3703a13f4c286b3ba33f5f9694f89b0a4.json\n",
      "cache_099ee1aebd99ea8153739dc6dc0379a229187546.json\n",
      "a0ae51c282dc91463f5c94f308cf89a0e2c9c312866781621047b3512d660b7e.json\n",
      "7ea14abf519870c647ba6de9d9e78bdb559046cdb518a0ed76abb64558b51e25.json\n",
      "c28a667ab78bc35aaf12947ef23fa465c5cd89224073ee33ba548bd8dace4793.json\n",
      "cache_5d87fb611d4cf115dea2be294e9c4e4e0dcc0ff5.json\n",
      "cache_786f9239550f451dedd4745e8e618e7040910534.json\n",
      "d1900ec20ded19227e16cd26a92db44a561f0829a0275d064b00fa1532b32cf0.json\n",
      "cache_d0fbc2da1ebf163d5fb3ad441b37916e877d55b6.json\n",
      "cache_2763eb976a0cffec603c9ec45adedd5696b7c379.json\n",
      "d3ca2eb40c6b6b9c42c6db0f657bd18c939557d040ee28c5023b25268731c67a.json\n",
      "7392b5daab5b732f34c456998625ab4ffa01276646b072d69122cdd7bfe18e71.json\n",
      "1a77a528ec5f85aedc6d5e965a5986a326e17edf8068a7a3e3b10b656f5b31f2.json\n",
      "cache_6a293d13f38f15b096fed0f01603349ac25c06fd.json\n",
      "1de9773fd31f93e3d73d95267f2e6ed34e9bc1754b10498d5a40cb5cfbdc9487.json\n",
      "174a0e3a256d7c7c1f4e022189ae46e7c12a59407ab5ea1eddafca2e406e23b1.json\n",
      "cache_e4f7fc9ac32249f9baa6efc435a1aaf92c0125eb.json\n",
      "92f6b1eb78ab1bc2461d98d204b0c23243b79038b6f0a79722e01145a6130416.json\n",
      "cache_93264bca83fd401334accaef0b57821766fe5749.json\n",
      "6c931c7999ad2569e26c1a97f0320423fae1f7fd738964c198b0ccba7a0268c1.json\n",
      "cache_f93deb931ba4e5e1c641f0a049d84a7dd83896a4.json\n",
      "cache_6c75d2812e6692b80af019c7b964bcda27ec52e3.json\n",
      "cache_1fbc95730b7cf75b45bffda3c26706f31eaf80d5.json\n",
      "cache_8d1d4081988e12bc6736bf03e97bc16d53877514.json\n",
      "cache_a9d38bd22dca37d82e3698656bade74c10b90500.json\n",
      "cache_fcbc4a6d61c01f371ac575ce4415e1687737c8f0.json\n",
      "cache_5f54312ed41ee9a1fcaa2054bb27ff4bed86f9ed.json\n",
      "cache_f53938e80f95865926d5e481983b24ef17da59fc.json\n",
      "1dd3769955c3b1aed3292852cf72ab0030cda352865599a4a67cce3ea63c739a.json\n",
      "451ca3a32edbd74e467a0edf7780ae05a5b80a99931afb4cea95b036e80bb8d5.json\n",
      "61cee37671f36f95d65b810d0ffa229111fcd0d9e0add17c72c350852859b440.json\n",
      "b8c3d48689de08555e7166af3c9931b0733802ec14ef14e69aac7c4c217591c1.json\n",
      "cache_21910dfbe0a709ef6e538e10c70f237ab0934dcc.json\n",
      "77c98bd8cde5cdddca19bf14c5b35d5705fc7e346f754a65e39f60a4cf21d6b0.json\n",
      "5c274d91887409a7a639d385f8429841eae2318f59331a781cce187dca3f98da.json\n",
      "cache_5724c206cbe75d6daab07050300faf1b51b58771.json\n",
      "07e16685772ea5c78b1c47c8876868e5bc466b98394147a1148d927ae058ff29.json\n",
      "39c65f048de22fb80d11d9d899a8d7e799c60f3722514d15ddd81ba98889bd10.json\n",
      "330fcfe680441b5d7b45837de9f3c5ca51a69059d4dee7e3775b958e941fd5ea.json\n",
      "cache_a3fd54881728636908cdc83dec0b8415f2cfd459.json\n",
      "cache_5c50141a5d4bc07a52130ec91ea7aad5959e1ad9.json\n",
      "d00be740cc0be4062ba563ae241a435d96a4d981f0164e6ebfac1b0f670bed17.json\n",
      "cache_7d745fc28dc49386fed3a3a82ecc9293f3470796.json\n",
      "cache_03f89ed2056d067eac987a1a1619ba931f606b84.json\n",
      "306cba8cfa322490bd4a6170293b985aa4d6a28bf05f04b24cfac74cf891e881.json\n",
      "cache_a729e257923f184fdeaf1535fa3f630573a31c87.json\n",
      "cache_1e5e3d31787a6222f1f85b4a7d4327efe48cce6c.json\n",
      "52bfe93459802fd81da50f38d58b8f29aca21ccb0232a0b81a83e2eb8d51b92c.json\n",
      "cache_e3d75babcb1096267559f7849a43b55e000e9157.json\n",
      "cache_8257edef8a96aad7116574ebd9f5b9c81e2a3303.json\n",
      "bd84f0079e3d62fbe18b51437b11b4931af499aad19083829ec2fa5915532ad8.json\n",
      "cache_c4b4e68c7d41375ed92e38929428ec2486ed2347.json\n",
      "3264c51c184b0acbb07c7af37ae6b1dbe6f4b5c7d707d6fe54e85657b44d14e8.json\n",
      "67ca7ff4a1840fa795ed492b8ab54395757ae44c6503991e309c701eb93110d5.json\n",
      "f6a85d761e8f821764ad1abdd3a4971aeeb247deceabcdfb40dedbc3980fa8d5.json\n",
      "34ea862aadcd2407be10e7e5399ca2c50e67b66480cbe2cfd8611ad6d7d7314f.json\n",
      "cache_dcf5a3acbc9ea17248ce79de848ad6eb983c3b3c.json\n",
      "68c1d3adf18e37d79cc5659853c6049527a662e5e367418bec72e6aadd6a56e7.json\n",
      "f52c6f76790573b57ec213b8e34cc47beabec4c8ee44b7fb0c26e9bd13d3be79.json\n",
      "cfc5daf16679fd8e7ffa8ae900e20fa9228fdac93e52b81d935c71a13e0036ad.json\n",
      "9e85bb84ba00f59c2c9a5b492781f23757a529e79408c14d9cf672e5c3a4b1f7.json\n",
      "cache_8ca2e837354905670a4c0a7b222cc92ae188904b.json\n",
      "cache_37f8dd07f024cc679c076dfae43403ae3fdf5ea8.json\n",
      "8788c2c600fe9f39a9d5595f3e6f875e9a5c7e4e1305e49c75c78bc5d25c18cb.json\n",
      "8f072ffb99014f7ac9232d2dc3c611a53ed95749b79f38aacda3e5247755281c.json\n",
      "9a776725632881889550240b6eaad5c9dc0338c2f6ce3a978dc558b3b0e9bcd2.json\n",
      "cache_0c517b2fa9a374b13c5ab1becff9e98d4ccbbc1f.json\n",
      "1aee833f851b1f24bd512978862ff3e1bf393a4b424e1a0f7dee33fcb76b249c.json\n",
      "d20c18baec221ecf80edc918fbbf1bc6a0acdf8453916599adeea2bd5120e9e2.json\n",
      "cache_5fbb674eea73e600295a7eb0f9d2df0d32c9344d.json\n",
      "cache_bd4bd1f625ecd6b0a316e5f64a7f6bfe68ed0f7b.json\n",
      "cache_64e388a8211e7a3218a6a97e7a38ea3bb9a9d642.json\n",
      "cache_02baa9d5f28fd656077d1525746c9330bb117d01.json\n",
      "1c5d14e32b64443a5cd2e4525ec576ff9127e478e999b377a8c143b406bce259.json\n",
      "cache_3044a9e054cff196618b74f989df1ace66c9cf05.json\n",
      "cache_cf3da134f9179744d722092bc27787d61d7c6370.json\n",
      "a71004e65f68c488b3351e81be3246ff6b4a15c27c57d29818d1c270130542bf.json\n",
      "cache_628b0c0f9bb4be364fdf961e73eb0deb1ebad819.json\n",
      "7a972691dba86d7994c642cb5a1219bee9725ac294f002735ee6ba8167d29ea0.json\n",
      "cache_c220ce82163a38c016acb2d929e35b5352cc27ac.json\n",
      "cache_ca51794ea2d990ebcea2a3a2d94e645b25704563.json\n",
      "cache_6555c34efedd3b6055143223013d264ef0e07014.json\n",
      "366cd6739a92c7948503543c25101dc2915acc9c6f00231d47a68b42813d1412.json\n",
      "cache_6c6278e54f6e355f031d4903806542286244b375.json\n",
      "a54048a9662b5ced3034bb19b74e433ebd15401f56044cb1a239f71777baab6e.json\n",
      "cache_e172030d9916d77a7fe5bcc238567c46e31336e9.json\n",
      "390e02d4fe296beee65ef92fa1dcdcb55deaeb68690c0812da132097dbdb1325.json\n",
      "c96b5e48d96c9c74c0c43a2192546a7e0772d23246ede29769c173d57c119392.json\n",
      "cache_615518b23cc3209e3046c33f46f479641db24f68.json\n",
      "472b5a10fd085ff05536866f42ae0ea0b72da953c966698fb2a9616fe695b1e9.json\n",
      "aaced8d03f2cab9e6f62d9aa05e5ec55881b3ee6b087185ddb5f56afb2f2d13e.json\n",
      "b6748c8b131747a6d6a3bf87909c90fc06eede6a90388397142a85de586fe9e1.json\n",
      "e2bc4b035752b849cd78052f825b6af167534c9c09999e1103089f7cd00681cc.json\n",
      "cache_0c90f2af1ee12ec5a7e757b270c400b32dd72596.json\n",
      "9d8a22d29de2d356fd959c1088d582b2dacff210b844516bfd47353a55552e51.json\n",
      "08979980813c9903bf7edeb61ea3dace0aa1e3c7ae942b6d4389ae81b93a11c0.json\n",
      "9af5471a5103ab167d18d772f9930b208cdb79fb66d095f638debe4c6fe441ee.json\n",
      "cache_782be3b5def1de013e7e66996d4dad4e6b396aa7.json\n",
      "cache_0d90f332acedf4b9d5878c5f3ed75ca0049ab955.json\n",
      "742eeaa1272dd1d477b60a10e3c8c1de3c0ae84805912044977738721bdaeded.json\n",
      "7b3f64078f835f03742c0d94ec853562fa660bc15c936df57f50481da087ff31.json\n",
      "c7f3a3a85738556015d07471fcafa0bbd89b067417fcea4e2d3243950c4c6b63.json\n",
      "cache_d342c6292a618629510bc566039081651f3e66ba.json\n",
      "cache_e5ecbc2e529f8228da625048f96d868f28882368.json\n",
      "cache_6e1572f228e64067472652186a6008e80dd05e2c.json\n",
      "cache_e2bb0908c6422b050a689606d7e3400155372070.json\n",
      "cache_cdb682dc4a9fb58893eac4fb2e0fdb73052f76c3.json\n",
      "894acbf5b11cda489f87a6aff1052004eb5f12c39d9b7b64b32f7480930df87b.json\n",
      "cache_97c96a323c0c1f05a6977df0425155ca57a40ac7.json\n",
      "5c87c161c4db52a80be258ac39b106f8539070bc510fd98b3747d0e7178719a0.json\n",
      "282201a9447ff1986df30070ff291ac3b290f75991bb60a49e63432f803403bc.json\n",
      "cache_1b0051666bebe53dea7f6d17cae982931d320e3c.json\n",
      "54bc9367b019a2f0c9f1092fca4e81bdb5dbb0bd134a05276c29a000b5b7b377.json\n",
      "4e0f9d7deada4885e35fc19d9d3ad231371ba2adaa3c7c4720d7343ac4332f15.json\n",
      "668ea76474889a2a6cbcc1624a172d59913c53ca4361e7ea8d54aacf7c1f2c27.json\n",
      "cache_d6aba5383ad3ead45ec762cea85bfe2379212015.json\n",
      "5f8eb359936d7dcfdc154d769e5036ab6a7b5bed2e785c0c0649bf4b28e24a52.json\n",
      "cache_a243f390f4f0be372cd3b619e9c23fd98459962f.json\n",
      "2a9a578a8817b0498390d3acef8a2d94e3eb690ebcc0cedcbb18ef3deeb26367.json\n",
      "cache_0010c01cb5a83abb11a8a308e5df10da595083dd.json\n",
      "2e4d713cc6e66f2d7476c398182b325bfe7ce83480fe1c43a3715b867157b66c.json\n",
      "cache_41c00f150d67516b5706d231d3bdc6920f087d99.json\n",
      "cache_b4732817f67f632480c82c2ec5d41b2cd6966865.json\n",
      "cache_48394ad84df30efac46bf1cbffde2bdfaa9d3556.json\n",
      "17db14e49f92f5e6bf6d2bfbd2e29c05f649f5525af5066a7779f51c875cd913.json\n",
      "cache_999ca018a513ea5f8969496ebceed39ffd0580e2.json\n",
      "54912bfc253a1c1a610e17526b5ae5672f3f9dc94dadcf492a684b2c3201a5d6.json\n",
      "488c98f952bfd8266f8d10d1c3f0adbb0a983cd727aafb5c5130cab6c0ccdaf4.json\n",
      "2f624cea2b208beb11de1710bf591bc24d5ce8620a50e5363a3ad1f9a03a1617.json\n",
      "cache_6570792f60dee5f78a9203e200b3449a073b083b.json\n",
      "cache_c95a426b0c930282e37e08ec8fc8d28c6b2d3bfd.json\n",
      "a8c31f73a7d3cf58beede35283d3cc7386b47ab9ab08e9d590dc28cc9010b9b8.json\n",
      "cache_a148b735e54d19f803d31d3a7240612ec0865313.json\n",
      "cache_45d7ef5807ff5add79b35e91ec479a1b094cb768.json\n",
      "cache_13a870cb12846dbec5fead1e84ba76ccb2c855c8.json\n",
      "89eefb66d6e9a4ce5fffd273489294b384fdb802f8d64867139c3d597f691195.json\n",
      "cache_b6c2d297198870d7fa53eec1275acba17e165c3a.json\n",
      "453e63bd3cc9cb6d7f911ff451b053436d59f9cd874c83e759d011d651971613.json\n",
      "cache_4573fc5877db47a4b3d06197fb971ab46a2fcd81.json\n",
      "fd0f08c0f18df84baec7f5e2d0629364398b4619ab0b8289d983ff3f3265b2fe.json\n",
      "cache_7bba2e3d1e5973d53e7c9144b8774a01cff10c8a.json\n",
      "1dd941d02aa2fde585021526a211b54c65c11daab15c5933f3599d6fa427c71c.json\n",
      "5521b78bb9f2ff98e8c3edc3fe26b6c050e03298ff712fd934bb911578426b04.json\n",
      "d76aadb03e5d5a6d38d36384fe25111c265959112c101cfdd84b58517b09d1e3.json\n",
      "79583d56a8a66533cb1cd3d51a3bc9dc44e3fe4f5671edfd1a0a74e5901a2f70.json\n",
      "cache_1d44a4686d9b49b2cd30617896a6af8d1bb6f7a3.json\n",
      "cache_6974e282ae8c028e87c57842b8bc10b89a064347.json\n",
      "f5269a704858482266166c0826924bcd8403e09f9f1c0520593628e00c64f8e6.json\n",
      "cache_551ed87b52285ecd59e8c84cbdfb3cfb90ce03c7.json\n",
      "b9b06c68445020664195191ea9b1057ebec96bbe414f0ea5a54d8d85ac99466d.json\n",
      "cache_469e7bfd0946eb7260e7b320f0b7d675c83f58d8.json\n",
      "cache_24d55438b21cdba190e64c3c0dcdd83d5d68e1b8.json\n",
      "cache_5dd00f5f2c2b28106d39f2a74f02ef5e3026d4a1.json\n",
      "cache_a9e1905e156c533eea0d67708290ba6dd6a05d88.json\n",
      "cache_1a1514d0ab9d3533ad78a306974a392ff7eb1c2e.json\n",
      "cache_5206fe773908db532d54a2391c0f206553f5e9e7.json\n",
      "11a8986c79430686f9972499bc8b8cd04ab0d286d4eea3683fad90e377e032f8.json\n",
      "cache_f30d39812bc4110691e38ce99c5a8a0cd07e49a8.json\n",
      "f11f29f3d186bf38b98e17eec1e7f166409eaeee481316234ced052b599d9584.json\n",
      "c099b2659ca8b069c85ab3e2bf070b4e89bc2233b950fd8e139639623078d876.json\n",
      "6438f17f51463eb742561b1211af84c07d49cff7ca51d9b25a7c689ef2ff5804.json\n",
      "375bed49e7a5f84ca63dd997ad88b221852181b4c20fdebcc49dc3c05ccf32b7.json\n",
      "38100e7a8630843d5227089c0f45e0f1f8c2aef5867d2ee2fe35498586e91692.json\n",
      "02191660f3fad9bda9dab56deb0af094309c67e3d064948d93433217ed665113.json\n",
      "cache_231812f48299a50ab80518e941715ec1488a38a9.json\n",
      "252120001b31a658c66197e42cf830d71a98cdfec3d082ad1cffaba3decfc4cd.json\n",
      "d0df10087e7eb06c34b006dcc6b727990c79f10f586fadec72064f9c56af6888.json\n",
      "97a3cb547202d8bcbf8c3952ad612cda6cfab341854eeca6cb035f4ade1eb2e6.json\n",
      "cache_2cebe0c487844d18354d4ad94d828686662aa97d.json\n",
      "cache_e9b0bcd3e8c0c01acac3c9ad6a7670cb153ec6f5.json\n",
      "cache_4fc0dde5a75210e6baef499a82ab560ffdd5cbac.json\n",
      "3a4daa75c77561a00707430f1ad2cf5c89ee93b0c5b0a11a185b69b88a71826e.json\n",
      "cache_d681560eb13cab18bcc1dcee318b0f6c78b1957b.json\n",
      "2f48163ee9fe1ec33bb470ba7003b840167acb2aad4f0464003af04b892712c8.json\n",
      "cache_01094a39377e6ce34c01ac8078af04ffae938d02.json\n",
      "cache_abb12b0e715d4fcf6d81595ebe9d2c6c2af05f45.json\n",
      "cache_c53ceb687b800d2ec21f0f6c07a41458896da1bd.json\n",
      "cache_b78061d6e1f25121d158cc0f54a40d12f142368b.json\n",
      "cache_806195f81c8df2f93e7a8a15457d982301c687d7.json\n",
      "0641aae0e39ba9f0c4b1fb22d2a2472bc99a35979525d7169d8938075028ebd5.json\n",
      "9426800dcfbe4b5d5918e369f06ff8e92e49edf8a0a15628fd4802ac7f139a3d.json\n",
      "c96e7243820e5da62bbcb9f470aa3a62b3a21f33b1e66083666f3c1514397891.json\n",
      "cache_5c38c758ba7bbf1187260c797c9d402bb5b017f6.json\n",
      "cache_2320ae6a4b73de7dee23a8444bf058d7e46c7ddf.json\n",
      "b7e1e56a7518538ca501e7e14a4d5684a6501905ed930839b2c976c26dec1197.json\n",
      "cache_08e2536234b0b5dd0a47f7aac7ce364bec5e5785.json\n",
      "9d817b1228f5c5bbc40a81934fc5ed1e25d4caeade3ebea0ff5f3b3e6f074b51.json\n",
      "349a6adc6978699fd04da11249b7c56dd3afc9d6c3646f7e5c2f232b3d76e8e6.json\n",
      "cache_e3c35266a884c4e2110ca2f750521dcc24faf5f5.json\n",
      "cache_6dadf472e1fba07c3fd30af9bf3fdd066f746a48.json\n",
      "cache_5f56ec844a2f07e9b15db5cf83f92c73711bab77.json\n",
      "cache_32d9d70c1908f0adcc9d5cfb0dded72c433848ba.json\n",
      "f3476280cb4042770b4f4054b13f79aff62ae73e64ec6d8fb200acd6ace23a21.json\n",
      "1b92685e88e7b34c474b1d83447980565e762609db30dd03105404d8da03dbe9.json\n",
      "085e4eb5a6560f72f1270c3dbee333a1b9d018f946c15c97c28e9b3d7308980e.json\n",
      "cache_48dd656feb18fef81c80ab2da9a5a7da5f484aad.json\n",
      "07ba6424fb054bd3e8091efc3a4b15e9b9d3988db01b51a63b9fdd5e84f7da05.json\n",
      "cache_8bb3a4e29897a0357364756c5d545702899d3935.json\n",
      "cache_8c60a8a20d5e579cf4ab92e4129ad64026aea9a9.json\n",
      "cache_fb9ebfc44b7af9e723cd575202a87ac5d007d024.json\n",
      "dc5afa5a679fc78d40eda0c86fc70968cf2d8b3f7bf8ae8fb71f76e345f735f4.json\n",
      "ae7f0f5399a35dda6ad5f5b44f14c14d21dedfbbb7d62aa59be996f075b87993.json\n",
      "25f3974ac8e2ec07149202ecc48bfde7452a5cf9f85e82b5b04a4f473b761126.json\n",
      "6797316c158177e4b1679ee691e3a9673c19ec73a0178fb0744b411807b1a413.json\n",
      "cache_c12cf0b24bb1492526961e40244290ba0876a64c.json\n",
      "312ad754f9b01501f6ade32923302c282e8a64091070739dda4f77c2a4f3765f.json\n",
      "cache_ce1a2f5f96bbb341d652fcdb0d00674fae95960f.json\n",
      "cache_eb487aad653f0e317752088a44b58fae1bb10f67.json\n",
      "cache_eac9b3d826d6e7cce46b8a87bd53757b11894756.json\n",
      "9f1f00c093b54340391a5c9b1a1dd22e5dd91135081480a3308f740e2bd8e5d8.json\n",
      "4946e8e11953de062c558630ec0d132a12aeef6f189a0a6660a6346ff774c9d6.json\n",
      "b6d6ee362ec1810d5abe485560e375e7a373b589da6eaa803525dec5ab8f4a5c.json\n",
      "5a37c4638653ea1d5b7e1fcd55dacb1c8773c5bc4b1566ac74156d954d4c1f82.json\n",
      "cache_04b11b57c50330162e859239573a869f337677e7.json\n",
      "cache_f9f227ef05c46015871a4de56096a9dc0d35b530.json\n",
      "daf8e4a7d40ca7d6af5bf5fb5db6b7bf3efdc34c248eada1bb69222022c24a08.json\n",
      "cache_af19eb6c455a93827c5e322736d601e58ab9659b.json\n",
      "cache_55bdb1dd633acf130fea7a0305a191f1c6b6763c.json\n",
      "09b8bc581e69847ab531ecd0004bccae25d0fc7ad6acf4aa9fac93fe2035e090.json\n",
      "cache_401faf28106f0aba9bd8f631fb6703fe8e701de6.json\n",
      "f267df8d4dfe8e6ac691055abc99cfb90952e8e31699c0b51b756e107d8d15ea.json\n",
      "f3128f37bbe67b05044d4b1fc6293f5af1ff9a84c07c99669126cddb875c6967.json\n",
      "cache_11d92fe55ff1529deef3d6ed463066a59da357d3.json\n",
      "741a72974fd4fe95eb3e9dfb1f4b7e64beb28264ae05f569c2780099a7d32782.json\n",
      "cache_7eb458dcda22859c21cc1dee4c4550f2ebe41b01.json\n",
      "cache_204613a9348855bfa8e7c22dd3e3663f86c506f2.json\n",
      "cache_981132ece850c7ff6a93dee3c975cdd56232b6c8.json\n",
      "9b41c913d9a6a0301f290bdca42cd578c14bfa0a974a3dc3aefbfc58eafc7529.json\n",
      "cache_08b4fedff991d80a8e3bfe298cad77efe531e445.json\n",
      "cache_1ffa584174995674b00d3330361e6e82e5c8d5e7.json\n",
      "69e437decfee7c798df1eaf93574685d43d1254ba62695a9fa02ba9645120944.json\n",
      "cache_4f62c1d49d44ad4ebb1331b0008215fc9823cc4c.json\n",
      "f1d4c067d4aa011e924dac89ece9692a215891dfcf1705ba034d7fc94ed4881e.json\n",
      "cache_4d414d42399c43cc98e5f3ea14361a833781823d.json\n",
      "f12e2a22f0e65e17c06e1804592e53206a150aee693deafb9b5bd0d17bc21901.json\n",
      "af2c21e55190a15f83e3fe1d2fac0888309190aa1aa2113d1398050d1cfe7ada.json\n",
      "84b149a3a3b516ceef94acd58c9abc4d4b05fa020c5db64c510eb31aa6cb62e9.json\n",
      "cache_7d0c3a1621f8b17c968541c6775803d06f5b4c62.json\n",
      "cache_914cd597c0274aec56c160f9e522281f9346ecd3.json\n",
      "544dc0713168efb1c5e8274c816f2c45574e145b28bceda38cd0e90bbd484c65.json\n",
      "cache_959431fde053bc2031690b78c7349e23487c8e1a.json\n",
      "d87c0f2d766a107c2b5c6a3460881f3f9eb8a460bcdbccc860fafb3e93b07a08.json\n",
      "30f464a8f09e254c5fba63b9745b49468598ea6703992819cf4421dcff5253d5.json\n",
      "cache_7d5d87a801139c5cad336daf7df995cb3ac1431e.json\n",
      "cache_1ee2bc8688fba4527292e11c92d4376ba8c1207a.json\n",
      "240406f87f4baa46db479d4eef6acc822c36a1dd3a8165418ed6fd88ca9afb38.json\n",
      "cache_9b432500dd233d10503ebe64d64bf7e51dbde36a.json\n",
      "cache_a46f681901a828cdac8a224f7a02020332626ed4.json\n",
      "cache_06ad2d125444a71f48b8ca7b574ee868eff4b370.json\n",
      "c815b112918f96509a4e9686bd1ee6180d66900e657c443f80d535575a6af4d8.json\n",
      "cache_ce68b6ee099d59608efef1fb7b300fd034b5651a.json\n",
      "4f50f9e14a2a0b620ca4a9b5d05fcfb8154411837c100a7ac52694e85633ee1c.json\n",
      "cache_444ba0e53da761163ade1ecadc9352df9fabb5ac.json\n",
      "aa00ecf07129acac9764211e7d87b1e1b3a20ceb9019b41c7f4228600a3817f5.json\n",
      "fc9b18301576e7190d1cc471a2501b476e96aa2827b917e4a517fa1b7695f2c1.json\n",
      "83eb8e9391f2df273770ac9b3ba703d975c9b7779bb50457cebf1d3d2f45dade.json\n",
      "fb905ef5d2da15ad783b93c7620422f3cb788000a45853c9676e3621372393d3.json\n",
      "cache_8f3aae5da45477dc057a036135ab46c050be9320.json\n",
      "cache_530bffd351ff39d314c4062409313c385d49c7ec.json\n",
      "cache_698a3e3b2e2209036e326ce6a74a665140a07686.json\n",
      "c17fbce015be0873fc59bdb18502ac80e4d1489b6dfccfaaa63726c48c0a23e6.json\n",
      "cache_450ad403578aecd8bb2f052bbaec2badf886f05d.json\n",
      "e456175b3f547f2364e2e33172cabd58daaab2f848d9d96b30c07f750be2a32b.json\n",
      "91043de654564bc6c687b367e2df2c2d76a87c955636e80acf0229888a937b02.json\n",
      "cache_b7c9fb7b72d033a1227065d636df1b4981264311.json\n",
      "5ec65fa2917eb2efd89657e39faadf36ae0a6f692ed1f8f807dc4b4818dd159c.json\n",
      "cache_2c5a20336712f641eb2336e8bb698fc4a7baccad.json\n",
      "3863fab50613e6871eb1c7da9da3351b58ecf1942a703655ade7c49268ff0b07.json\n",
      "cf5f5913dbe66ef1a1c693a30a75738c2429bd478e803c01577cc28e0614f5c2.json\n",
      "cache_415862fc76fa81ce88865adaaf937233ca2fb8fd.json\n",
      "cache_a80e0703cb2f266f539d228488ac5172234454e7.json\n",
      "cache_05e553eb628d95851de32bf0c5f0352b6423ddad.json\n",
      "cache_4494497bffc7e093f3e46bbf36dd78f4896f4707.json\n",
      "2d5b6c214d721bd6cd1de9cecaea1d328c5dd81aee2809faa8f965cd896d7321.json\n",
      "7664f958d98ead001fd76f43861baf12003feae93e77a602d70ff55b23411941.json\n",
      "7c8db4c098629e130f338df3d37d47cca1d3a3e78cf08c5d298c445ab5c97a83.json\n",
      "cache_319538af2d3be1d3f8d0d0ed8bc62ce528069701.json\n",
      "cache_08d2b18a593569fdaa728791104282e9fcc6b2cf.json\n",
      "5638e5dacebda27e25c2d4d1e4916c150cc74663a0797646c9f8c28bd5b1db9d.json\n",
      "0160d8635ace448f976ff0c3344f4db83c91a98f6cb49272f18c64de34e91d44.json\n",
      "cache_320973dbdc8f50d2d332259416080c55bea98f36.json\n",
      "18c4089b8d038f471143d796ddeb73f5e10a5408cdb962ec33ef068b701b3e22.json\n",
      "cache_06446b34f626c2f0564c7d5bdce97fd19a7aec5f.json\n",
      "cache_d3620a008c1b24cc1486ddd65a0aa4728911173c.json\n",
      "cache_686b039a1c8238d27026ab9d420f0521653682c1.json\n",
      "bbc80a91848ff0103c51039132ff148dbe085a0202c3a8abc9498e5626ecd3ff.json\n",
      "5e981406e9f619ced4167646506c5e9f12229fed4c5edf8a73927511167035df.json\n",
      "cache_ffaa55113837d3d416643a26695610e76b7d4b48.json\n",
      "cache_1b6f16d5a2c3f0102cf75fc82bc973562a214fad.json\n",
      "cache_1d0ca30d3915cabf457cfeded1b99fe03834a476.json\n",
      "cache_91a0edc68e32c7ee6a37f4f2cac22ea015da216f.json\n",
      "5400e184c92a46975d31eb58c225fa13acdb7d557cb0ee38fa3cb3b36ad03057.json\n",
      "a4e58a946d0ba245f87e32c7ffaa948e02d3ac072a8ecec2ce24eb86b6b73679.json\n",
      "414ebd8a8f287cb30ec4f81af3e0768649d4c67f842c956662982a170437618c.json\n",
      "cache_38fdb607b9b5de31d8acfff76dbe4875907a8d9e.json\n",
      "a7080f3d2b98faba6cf3073811da3166c1e23c257050a64e5f7740419352f29b.json\n",
      "aaac1c1e108c085638e1b3bed633e40c38e4faafd688a25cff5aa2a953a96644.json\n",
      "36d51171a02af6f5914576935ad4da38e38ed12f6e18337c956a2a583f5c87e8.json\n",
      "cache_70fc96fed849cd3d433e3ae447205fa42b6c1b83.json\n",
      "86cd77a0253a4b970cb911ff009f46919f0de3bfde93d9b097400b9625a58dfd.json\n",
      "e82eee53bbe2bdc51961b304438afb6da976c5d257eaa411238e61a8216a19b5.json\n",
      "71454f32e2db2f7a9b1df9d21a824e278912c6b8e264d44eb88b4b13c86783ee.json\n",
      "cache_f5da2634ba954a9a29e92346fac12813920482f9.json\n",
      "cache_0980628edbed3af2579e9d99a485348ff0e939f8.json\n",
      "fd2430d42baaa13f749108d58e8e1bdb52caf07437775eeaeac85966f96b077f.json\n",
      "f98936b6913a63164249cc4dc283ec72d1b5cead97cd8e1c8ee622e97cfb771f.json\n",
      "cache_9b323678c4880b01979e03672ce23077435a4319.json\n",
      "23fa690964becf5e6e0b1b4c84b508da614150eaf68550c402cac32b0747836e.json\n",
      "cache_9259112a6bb517121bae14491d5afa8bca330bb7.json\n",
      "cache_ed8bcfac5923ad3473c7b489879db345be9a50ff.json\n",
      "cache_7ae5961e877a1e22ea086696620e8dd67c8a763c.json\n",
      "b40c644c4592a20dc65b311209d4f34ff8d3102b34ead56868636091d6c392db.json\n",
      "cache_23cae12329b2e9d34e9cb1c2b9ec2b6583f11695.json\n",
      "cache_c477c65d1df8b38f1e18389b5102cc8e956a1017.json\n",
      "2c550efc1a2942de5e6661a386e6f60f1fc98d48d2f5d78f0c79201a567baa02.json\n",
      "39b9b0e64a79c104d3db90ae6ade5c1d204740311f89b5911a6ade5e605d9cf3.json\n",
      "cache_1be7dfe5b1dc28017b9484f9609151e6fb374179.json\n",
      "94355ddc39538454c08f6f96a67b061ceeb36eeaff2e08c0587486ee2c2c36d9.json\n",
      "35aa0ff08a7312f9cff84bdeb7d34f05f2d077167d1fe5cb616eeaebdafd6905.json\n",
      "cache_aa106bfb9b0126af6799d0350f01e41b4221f109.json\n",
      "cache_90f022a0ee0beff0f3485d80fbbd928ae2f33b81.json\n",
      "5b9a6403befa5ca9c257fe95d84a230b07bc120e756bedebe575648834a8ffd6.json\n",
      "cache_4922a5ea0905c1fa8b9005861693c12dd8454fa8.json\n",
      "cache_bcbe6513661af91696740ba82d81e6ff20c482ba.json\n",
      "00f629ebe3c072ef25f14fad226966bb2f567bded250a1310a8e60deedb17c6b.json\n",
      "61a7f92ad3422f3263225a9effe81972dd064bbf7b75fc182918e9cfde08a1d3.json\n",
      "0e087d900163af61d2091cae492a520069bf0e3b619fa508d61d5c41fbd2e77a.json\n",
      "6831b8091afb6d4e34f62013218de3c35b8ac2a646cd7b4bb93a4edb9768045e.json\n",
      "cdc334f86bc1a486b4beffcdb6e8668c8580ce9e81d60e6531f0d44f7aa8a395.json\n",
      "6558e0fd9b3cb9eb1b6bf527d49ace1f2e23b4d2a73ed5fef0ba44874d701154.json\n",
      "cache_630850d63a61ec324b1a608e1c0b00d21c957546.json\n",
      "cache_623e50b48d91d2e8b3d584cf9926c31bc00549ae.json\n",
      "f48edde042864adb03188a6100959bd59c8d95b73bcb7036b6e1eb4af44e0889.json\n",
      "cache_711ed671967b5a82813b9a9381474da91c4f592f.json\n",
      "62c1c1c3ad14d3c060703bb4a890b59149f45311eabc3d51a99a10b7a12d82c7.json\n",
      "e73de9fe69adf2a07c9dff85377625085cc1f35e75e0775bcf877372628eee26.json\n",
      "7218559ee354e0e8fcf7f2bd0fd67b90e350949c0523f4ae1ae3abb68116cecd.json\n",
      "e6b29be812835688e5dffbcaf0b54df314a10a72319e0891bc7f4a783912861b.json\n",
      "cache_55a33f601b3c4bc6ada66987f2f489e1d1ed1150.json\n",
      "cache_ffbf06aef9a2529670a96b121af060478319bf3c.json\n",
      "20977a908233776b2110b4578110380cb8b45b97e1029a39dde69fe4a5d8478e.json\n",
      "cache_a4c6461811fde69d84782c45658bd81a2d1f863e.json\n",
      "cache_34d8beb90356cab1a9dcd4335d07372e0f407ea1.json\n",
      "0152f4b2a287d9964738e3a6e07dc48e1334ea97cfaebec30a525d5123b7dbc8.json\n",
      "cache_c320025b091bcf7074ffde6ed715a0ce742fe3e7.json\n",
      "cache_483e517d16ea1a04461c1b980fad1611ab3b44b5.json\n",
      "af78bd399cbf394884f890269d44431d207e0afb88db8408f3141452c17897ba.json\n",
      "7213f169eb3bd69951ca9dc723246fb62284e146089f11a744689c2727ad0b93.json\n",
      "cache_cebcaa106faf65b0891e35d9cd9d7a90b2d0fbc7.json\n",
      "cache_da7f45de7ad186db23d537a35507baf8eda2416b.json\n",
      "2fddb98cc133160bdf8934e55cb85a18c30b35a265037ce90a028a265ddd2dae.json\n",
      "7138d6f4e9ec7fac2d20b6cbfcb8cde151da9963a64c678f482b14682382128d.json\n",
      "69d8087638f10b99d2c51208e7854ee19e72261753a85e56d004797b3492e620.json\n",
      "b90024824809430b96bf24f830d6771b16fc2c872544c3d2b1743f82c847b0bc.json\n",
      "1d83ad746564305f5a296bead20eb3c2090200f368719e7ef81bf1d7cb56e5a5.json\n",
      "e909f9dcbaff1c8e34f36a5f92c8c7a8fe1923dc5b6c8563e0d767d2c0226193.json\n",
      "cache_8d00417a11794298d337de136d2c00fe15cdda1c.json\n",
      "cache_91039b85f38a8d776642181f0d162a658e838bf3.json\n",
      "75c15e310437a741b4147b6b216aa73e21a93d31eab555f32251571eb57f7b86.json\n",
      "cache_1a809e3ecc38a2ea5288594da7e9ae976b48b5c2.json\n",
      "cache_a4d58d2a5bd144deb142417159ab286c67e92410.json\n",
      "cache_e7202aab24deca6c4fc23887d309a04f76677d3f.json\n",
      "fbf320cf9e4e8eb578ca095e672f36ac2395e722b67cd416e154a5462fc29ca4.json\n",
      "0a9804042e0421fc9d0bd3612c0e24cb74b414ed77cfd54501322c5efe0d5b0a.json\n",
      "8c2606959667eda4e1cb014b61ff2cbf0c5e9eeb08c0bc202f4e33d85670f733.json\n",
      "cache_57c55faf66cd9463ba3a17a1060cd72d6d22b29c.json\n",
      "530f6a2b4a67c355db418b13c7fc5c59fe8ff449c85f7fc81b16cf04270dd97b.json\n",
      "169961e7bb3ca89a5e9c82f16364b3131d4c891429fb7a01b28020d3e233bb51.json\n",
      "cache_81ae2593968b2dd8cd3421d0a9990d26b326268e.json\n",
      "cache_da7252fbbd26be57f0ecf73c0a65b641966819ef.json\n",
      "cache_038bc3f845347c743a49ee99f1dcc54afa4427c8.json\n",
      "6573de4559eab80a56d6c1e7f816c561dc5dcf0897311369640c1be7357edb94.json\n",
      "cache_c27e8b3b82f0d9df4810498f3c0c38f4a57f8252.json\n",
      "fb2b3c9d1000ac711ac1ad507596ceda33e99d987668608f9b7cf5b372d35511.json\n",
      "cache_452480fccab59e0ebffa8f38f7cd3032c1294660.json\n",
      "cache_6848523ac4001ce9a8bec8171af81e5eef9b78da.json\n",
      "0a3287784d5b1ce3b7f0b613723e9193ca27cf6dc6c3d2f187e1ee9b2516eb93.json\n",
      "c0551a3ac995ee2303cf502505d884061941ce07e69e1af6d21aeef29f859672.json\n",
      "mornsun.csv\n",
      "cache_0086d34a71d93552595e1669724a95ea4e71c7bc.json\n",
      "f2e24b5bd0024bc40430604dff1944431fdbe746c0a6d7efc07db50708678351.json\n",
      "cache_542b3a9fb93e89fcd128dd6f1020261bdd098b90.json\n",
      "60257f1991fb89c2aae5cdb0f5c6dfa94fc0f8634e4be8b9f4fac015c8d232b4.json\n",
      "0e140c8ef10d6f46fe3539e63283de99cc76f98769908e7573f39265d7592958.json\n",
      "9ee75e2864fd73aebe9a243ac074f09c7a729cb66ba38a65b66476a92ed6e451.json\n",
      "804c46892746fb62614e3da9665ad255c2a78a65be86b5957ba5ca8f77f7d73f.json\n",
      "cd5641044828d0c3d6502f36eb2f7b68c301fbe7a5082b06ee046410569a603e.json\n",
      "cache_b5743c4f835b18023ad8e3b16b4dac88df7b57ed.json\n",
      "1a8836f776f0b9a3783252a0dcee309f32206fc46cb2eb36c5da5d866137ff9a.json\n",
      "cache_486b1ca12ad1e1781f437ab92787ae6e46923667.json\n",
      "cache_48eda28f72ecd439cedf67d25f095d70d659adb8.json\n",
      "91794726b1ba46d825e2aabe51ca3200fcde3f9e2327b3b12ef045deb7903b1b.json\n",
      "409abf78499a616b285bc96396332cc1b409a695fbe2abf11786b3eda34f930f.json\n",
      "cache_9ed0d44044e4570d33ab845de33c6a1f4c8b3fdf.json\n",
      "cache_055da4df83a32609185ee6baa486abc5ba3fc5fa.json\n",
      "0e43063cd72e8225521a1e7f349dac6e5b87034e9311e4625feebe3e0d9bdb2d.json\n",
      "cache_1b7ea1ce539afde1399927ac474e74170e83e8dc.json\n",
      "cache_c704d8a68e0a4f37857d214a47ea2bacbee185ed.json\n",
      "f6eb15ab4ab5451d7ddeec061243519bf84f5fa5b4ebefe86a54141e47c42ca8.json\n",
      "cache_a2f712786226b6dbec6efb4a4c106cd4fe15dfd3.json\n",
      "8b6fc9532add91bb24a2ca89837f34797d8829197f94cb041a520debe28fecd9.json\n",
      "cache_14c80a62dcfccba1f1df822d14611a12aae5a3dc.json\n",
      "cache_eecdd87e911f239bce9f70f53b9c453b38cbcfa4.json\n",
      "cache_01e1602a6b5da4dec813ff63669472f3cbdf0190.json\n",
      "6fb4c677a403a268958fd7abd87075b53f195773f8ad2a20c4d33d458e127f6f.json\n",
      "ef50ee394a1e85279778c9d7b652e56a5835eb263dfe4edc94adbae908b178c9.json\n",
      "cache_6bcdcc592a0d4edb5f503baf9164a88c73c502e7.json\n",
      "cache_ecd21c7ff93de7adf6564042a79ce17ab05d2260.json\n",
      "cache_558667e5057131a92ba42d7659e77bddfe00693a.json\n",
      "cache_f81f2dac608b3892b1f737938cebb0c0555722a1.json\n",
      "cache_a9d0b6424dcb925076318333f8066b7062ec9a2a.json\n",
      "cache_a2a889fa8e5720456868921eb2190503b7bd99c0.json\n",
      "6ea214eeddc209526e20073e22f7dd39c7bbc8544e8748015b0df00c0686752b.json\n",
      "0f3fee21236df2273ec96f9945095d52f2b767d6e85071adbf725e223ba5745c.json\n",
      "cache_fd3f4a66074bc9b27bd69467fac1921d4ccca970.json\n",
      "efdf8aeab4b71176325a2e83d378d762e002cad57fa988abb50f3128f244a403.json\n",
      "cache_52ae3c26462deb0c8e5fe4ae5fce8cf7d5a00123.json\n",
      "cache_dea9acc9329e5f9897a98f4dee82622259b34cb2.json\n",
      "889c1c09bf3cc56851557908898b8a69ae7b9fa86d9463a1e99b34e4fde57f2f.json\n",
      "cache_65755202e162b7418fca4121d4bba49e6165ef1e.json\n",
      "f941e0e38879303e9fb6eddc992914d7e8bfbdf46a9e2f192aab261728e97a28.json\n",
      "cache_874087ddd5c17c796dd3222d08c87c1fabc35daa.json\n",
      "cache_aa54c705e233181c178e437c17bf5e79f7085fc0.json\n",
      "cache_a0755472bc8651e7c1b39ffe22e2e0f3db36ff6f.json\n",
      "cache_2e8f7b9f0cd51290cff154f0214372ebfd641889.json\n",
      "9ad7a8762970a14718e2df3178725a01546667fe0be450bd3e1c544f16091a6b.json\n",
      "c16304c352ca39900c4fbf9e08d7638bd4baa94ad028e53c52d4e797c4c289a3.json\n",
      "dc9434b67f6898eb117043d32b3d7502a6fbfebec421f2300d767f26d8777e47.json\n",
      "8bac72e8ac699beba4cda04a88853f365117b6da4a4110a681b999119a947169.json\n",
      "cache_6a8de2ec3231182677e4c2359017a65695b2f6b3.json\n",
      "10103867eba473f44b5cffa75fa26efe0a7c342c1a47dab513cae26e51a1f4d9.json\n",
      "cache_95509ca6443bbfe2aba16b20aa972be78429ec66.json\n",
      "cache_6bcba059c9d8faf2a432f87d7a83eccb41d48d02.json\n",
      "cache_b5a27f9a5d95b3ba92c7f15e361e1931d8aa3718.json\n",
      "cache_623de1f6257d325e6e784f15e89d04338c3b8d8d.json\n",
      "307bb246e444ed96fde32c904fd294a34b83ae91ae1bcc4f8ef022474af5a67e.json\n",
      "cache_31ad4519a78ccdc9a8d00588da590baf67d448a0.json\n",
      "1f19cd8cd836a3277312a63fc6ab96739e608d8968b79acbeea9af0495b54b1a.json\n",
      "f77d3da92a6eaee752ba9164106432346a5bcd07d22d942c1af92fc54dcc866e.json\n",
      "cache_718bc64d56f25b08045c47c3d45d8fd1ade487f6.json\n",
      "cache_20c303b1e2337337f9f6ac0ed51a4efe9c5816ee.json\n",
      "cache_68ec3d25fad3adf3abd18bb5fab80b8423a1ccea.json\n",
      "891d1333cab3ec3386d8cd62ab42ded64c50553707aa815012fb909d29d0255b.json\n",
      "cache_95c3c1e1d71af9d6f26e14c32943b6da51e0e08a.json\n",
      "79e66544c2d215e37720dbc268d8ac5bf25f244970eb30f70acc581946ddc58a.json\n",
      "cache_0c36e5cbce2f8a7174d53d909a4658a6ea8737a0.json\n",
      "d01ebc9b7229d0c7347cf873ed6ef70d143a8d4ddafb68f04b9b4a5325cb2c9d.json\n",
      "cache_cfd6e5d59011dec44b0a4d58abf9e6c9c187bb2c.json\n",
      "cache_077267c693efe78a484bb64c83d185efbfd56a4b.json\n",
      "cbb6916c4553c40af58f104cb081d3e19f869d3b8dd4461510f77e96bee38339.json\n",
      "1c0ad45bbea1c2b713a97a528c135e0d1d211e0f65324516c9c66036d9af4819.json\n",
      "cache_34bb13d50c99210ce22d65f1f22865482c40c07d.json\n",
      "df6cbaca9ea6f57352174a6d447acb218b7305f5baebcc12e363437e0cc35f61.json\n",
      "cache_64881c68341dc6a4ed71f45ce3e897fff03c5863.json\n",
      "1ff006dda461177e4a6b4f4041feb2b681af66b6f47fdc1b5a83317e1cd76a36.json\n",
      "cache_8973dcb57b67d42ca53c2b03645deddb55384cf5.json\n",
      "440ec0ef57e0dbd988ebcae11026ecbbd02545230e634a5a01bcf3cd3938fd42.json\n",
      "cache_484de651dd9423f6c4fc61aa87f6dae98d8ca2ab.json\n",
      "cache_adb9c84716e63a89ca38a7684c30e9d7c0aa5f97.json\n",
      "cache_dc278e911b4b7a2975967c271bae261dbeba8cbb.json\n",
      "cache_45bfc360eb5020f81e8a49d6344afa971f5e1850.json\n",
      "cache_f14698dd37563edbe4961802ef536d2f3eb688db.json\n",
      "cache_4811616f4f2136cdb7efda07e1e8298b199b3e09.json\n",
      "cache_2811f6e8400bd62a4da4c68be0ff447154787d82.json\n",
      "cache_679df6bc9068e15d24c2aa17998a78f11b1fde47.json\n",
      "cache_b0c2bd96e27242b622b4c7c9d495f04c4c952430.json\n",
      "cache_536bdb88432295412adc576125de89488defa406.json\n",
      "f1fee52e37b633aa793d3d9b396cb3053a538f2ff4401b4a2fb3a06a341aeb47.json\n",
      "cache_ee51a3108fe1903544491c8984762b2d1282d20c.json\n",
      "9f7bb0e7dcac98797ddef700241e46b4f85d00f867b600aab22eb8ffbdbc8423.json\n",
      "cache_dd030f1cdc1323c6c7278b3c4ffbf0fcfa0d9755.json\n",
      "cache_ebe6dfb7c803e7fa5b1c63f452812056369100b5.json\n",
      "4802eab6af524e80125a77c9a074c16a4002fab9564a36f72257c705144bbe9c.json\n",
      "cache_3c6044e3e281f9e5ea9da8ee97ad60a4cdcb3b2d.json\n",
      "cache_1bdfd7d803f0fe68faaf487027eb3ee50ba4acc5.json\n",
      "814c20e33968ca021b476c0184ce72a719552a101e01341c02bc5011a6d5aaab.json\n",
      "cache_dea4efa074436a78e84b7ef7297683d3a68063e6.json\n",
      "5dfa58b84a5c28a11e517c94d99e6c1ee2e81e011b03cbaa5f45e279d367cc2c.json\n",
      "cache_55c023bedf009fb8c4b087f95294b15b4d016356.json\n",
      "4be50729477dd68280cebd303159c1e8057d1b6cfc1774d38ab7c1542c19f230.json\n",
      "cache_fc9e4f1d847a2966a5ef4686671cbebed074915e.json\n",
      "d42c8143bf66d22e056bb896ae72c2904818ac085e024dcfe438077c37fd0b49.json\n",
      "cache_0aed7f277ffb914d20b343e270af87fb3a88bb06.json\n",
      "cache_d2f5441c7a7aece2834f658fc18d96f0f8c18f71.json\n",
      "cache_392485b93d89cb5e3e52c9c36f0ee56b52848613.json\n",
      "cache_3798863116514c08cab6ad9301dd02706243ac9b.json\n",
      "96516ad66f519b1a27cbac6787286c0098afa6d840ae66465c54f209f9faef06.json\n",
      "4d2fb2fe2eb675595604e057b04d8a326cc71697802b450be032b9bab64928a0.json\n",
      "cache_a0ef26a1ed713d592f4f1f7962eb9281bcc47f94.json\n",
      "24369738603cdab11d97ef233738801703659ce7a027d3bb57dc0914c5944e6b.json\n",
      "cache_0dc90d3030f5208894c036ce3d9312053e71f46e.json\n",
      "cache_e269b0326716fb3229ccf4a8ec319ebb5a1cc6cf.json\n",
      "cache_068dd6a5db91d908404e38045dbe87ead8f814f4.json\n",
      "56c3600faa136d09196d627128e6b740f65e08b3a6d87b3d6b06de9906b8f7fa.json\n",
      "dfbf0cb060a3d599c453b9fb2ef8d4a996a7ba2eced03ea9e744886940e5d08c.json\n",
      "74afe64c3eaf2e7efec2960af43a4970bc14fed9fd2db999aaca985fa34fe78d.json\n",
      "75d708b55a2a83e02b2b395f768ccc5cea048cb916bb3e4a10ae52e022298aca.json\n",
      "cache_0e3c4c372bb40bce0ff5dde081c45e2b729b5964.json\n",
      "bffeadc6babb52a55ff2813bc0dd464b2f11a10d2c967ec0c734802833bfaea3.json\n",
      "96caf013bfe3d20b68a1d08c9c146877801f8493b8565336b04dad99edcda956.json\n",
      "ab1d4ab93ac9481659857523fce69d48f09eb9300a68e7d4919679fbdab6d4fa.json\n",
      "cache_0c6dcd68a7690d02af0a8f3837b43e3ca765420f.json\n",
      "6cf7d258ac7682a4528de2058718392b7211f290cd9781e7229f9c7cbde586d0.json\n",
      "6a0dd54c816baed22f950af4c42ac52f650244a0e4e3a55f1d3cbab4613ff0c4.json\n",
      "0b066df39205ca82592611045ea005504d135e06d94ec47778f72e993160cba1.json\n",
      "39a00137c0ce72105f349ae6df11904443177a7172af9257f01a4c7ac88ced3d.json\n",
      "fe66c0804c88fd570371266d046ae072a7da41d034e306cdebfb16102b219fbc.json\n",
      "db83fbfa54a74f5b96f867259a34be79f2e26ae5474628e75d1f6b86a7787a6a.json\n",
      "1973d10b26951ab26e1207338caae13ff85c45b43f4499104ef8c20cfb6cca7f.json\n",
      "cache_56473ec9b65edefc635b7ccf3dcec7832a240cac.json\n",
      "cache_59027e439996ba5915e600d00deb4709a0e8c81e.json\n",
      "cache_c0eae6393adcff8a675ef8ad51f823a3905ada41.json\n",
      "e4bf455f004eadb54242a51039146b6133f8da500066b06e06f04f6d3c53e560.json\n",
      "25c9fc29f2e5bc9555ad91f6225bd5f0c7b51bd8000ef8a89f369e5c89b4ef78.json\n",
      "cache_bf4fae6fa5c4f900ed9fa5596749ee2cb1f1ca86.json\n",
      "cache_881c57afd9bf86aacf1bf9f8d854cc55345a0b82.json\n",
      "76bd58fdfebdfd23757cbdc4516ccdfda7b57a3863ef2cf959089558c9dc09e2.json\n",
      "b7f08b26d946ce6a7860c726f0317e5bb5e71d2ead0a92b8beada9db92651f79.json\n",
      "64212cae3ae0b0e26cfddef59f78fa4bca841d5715c942e2893157122def67f9.json\n",
      "cb0823a6802eb2615e4fee8a39197bbf8619ca169264dce9fb9b79021596a25f.json\n",
      "52b073f93226d0eaf7068d971886a378bb5d4b6676451b90b7789729ff0fe7a4.json\n",
      "76f06d12176e9b08c99bab8037d0beb1d9c7beb00f9d1ad5aa5f3873f73d301d.json\n",
      "48e4163cbaddf2dae44bae163bdd7e259e21dea11c55f9f3ce7ef592c6a37f51.json\n",
      "cache_3d64aa7c59fda08e68beeb22a6afad49632fba83.json\n",
      "45b6ca1d5ae53c82a25deec77b06e944e990c9dafd7d13f10b7b79a25f1784a9.json\n",
      "cache_e85d71278ccfa919493b9377bbe88355c49d2b29.json\n",
      "cache_8b961d2cd5cbf27069653145ef3d10bfdec27b01.json\n",
      "cache_6e70d606e0725bc075e131f0bee6c0f03cb79a58.json\n",
      "5d4016e4b1ba0af8a514401af88c2cfb7f298c0490d4efea07034adbdb1c4ebf.json\n"
     ]
    }
   ],
   "execution_count": 5
  },
  {
   "metadata": {
    "ExecuteTime": {
     "end_time": "2025-05-22T11:56:43.657682Z",
     "start_time": "2025-05-22T11:56:43.648710Z"
    }
   },
   "cell_type": "code",
   "source": "df_mornsun = pd.DataFrame(mornsun_data)",
   "id": "94dd43d64aa41fac",
   "outputs": [],
   "execution_count": 6
  },
  {
   "metadata": {
    "ExecuteTime": {
     "end_time": "2025-05-22T11:56:43.862544Z",
     "start_time": "2025-05-22T11:56:43.861015Z"
    }
   },
   "cell_type": "code",
   "source": "data_path = pathlib.Path.cwd()",
   "id": "da95413635634ff8",
   "outputs": [],
   "execution_count": 11
  },
  {
   "metadata": {
    "ExecuteTime": {
     "end_time": "2025-05-22T11:56:43.946673Z",
     "start_time": "2025-05-22T11:56:43.945125Z"
    }
   },
   "cell_type": "code",
   "source": "products_path = data_path / 'crosses_old' / 'recom_products.csv'",
   "id": "4b2834677174ae81",
   "outputs": [],
   "execution_count": 13
  },
  {
   "metadata": {
    "ExecuteTime": {
     "end_time": "2025-05-22T11:56:43.981605Z",
     "start_time": "2025-05-22T11:56:43.979364Z"
    }
   },
   "cell_type": "code",
   "source": [
    "db_path = data_path / 'crosses_old' / 'converters.csv'\n",
    "db_path.exists()"
   ],
   "id": "f3446368b84ada49",
   "outputs": [
    {
     "data": {
      "text/plain": [
       "True"
      ]
     },
     "execution_count": 14,
     "metadata": {},
     "output_type": "execute_result"
    }
   ],
   "execution_count": 14
  },
  {
   "metadata": {
    "ExecuteTime": {
     "end_time": "2025-05-22T11:56:44.052888Z",
     "start_time": "2025-05-22T11:56:43.994966Z"
    }
   },
   "cell_type": "code",
   "source": [
    "with open(products_path, mode='r', encoding='latin-1') as file:\n",
    "    products = pd.read_csv(file)"
   ],
   "id": "49f3e7ce92fa3d2c",
   "outputs": [],
   "execution_count": 15
  },
  {
   "metadata": {
    "ExecuteTime": {
     "end_time": "2025-05-22T14:29:48.938208Z",
     "start_time": "2025-05-22T14:29:48.935729Z"
    }
   },
   "cell_type": "code",
   "source": [
    "missing_cols = []\n",
    "\n",
    "for column_name in db_data.columns:\n",
    "    print()\n",
    "    print(f\"column name in database: {column_name}\")\n",
    "    print(f\"column available in csv data: {column_name in products.columns}\")\n",
    "    if not column_name in products.columns:\n",
    "        missing_cols.append(column_name)"
   ],
   "id": "4d61c7d2240fa2be",
   "outputs": [
    {
     "name": "stdout",
     "output_type": "stream",
     "text": [
      "\n",
      "column name in database: product_series\n",
      "column available in csv data: True\n",
      "\n",
      "column name in database: part_number\n",
      "column available in csv data: True\n",
      "\n",
      "column name in database: converter_type\n",
      "column available in csv data: True\n",
      "\n",
      "column name in database: ac_voltage_input_min\n",
      "column available in csv data: True\n",
      "\n",
      "column name in database: ac_voltage_input_max\n",
      "column available in csv data: True\n",
      "\n",
      "column name in database: dc_voltage_input_min\n",
      "column available in csv data: True\n",
      "\n",
      "column name in database: dc_voltage_input_max\n",
      "column available in csv data: True\n",
      "\n",
      "column name in database: input_voltage_tolerance\n",
      "column available in csv data: True\n",
      "\n",
      "column name in database: power\n",
      "column available in csv data: True\n",
      "\n",
      "column name in database: is_regulated\n",
      "column available in csv data: True\n",
      "\n",
      "column name in database: regulation_voltage_range\n",
      "column available in csv data: True\n",
      "\n",
      "column name in database: efficiency\n",
      "column available in csv data: True\n",
      "\n",
      "column name in database: isolation_test_voltage\n",
      "column available in csv data: True\n",
      "\n",
      "column name in database: voltage_output_1\n",
      "column available in csv data: True\n",
      "\n",
      "column name in database: voltage_output_2\n",
      "column available in csv data: True\n",
      "\n",
      "column name in database: voltage_output_3\n",
      "column available in csv data: True\n",
      "\n",
      "column name in database: i_out1\n",
      "column available in csv data: True\n",
      "\n",
      "column name in database: i_out2\n",
      "column available in csv data: True\n",
      "\n",
      "column name in database: i_out3\n",
      "column available in csv data: True\n",
      "\n",
      "column name in database: output_type\n",
      "column available in csv data: True\n",
      "\n",
      "column name in database: pins\n",
      "column available in csv data: True\n",
      "\n",
      "column name in database: package\n",
      "column available in csv data: True\n",
      "\n",
      "column name in database: packaging_type\n",
      "column available in csv data: True\n",
      "\n",
      "column name in database: dimensions\n",
      "column available in csv data: True\n",
      "\n",
      "column name in database: certifications\n",
      "column available in csv data: True\n",
      "\n",
      "column name in database: protections\n",
      "column available in csv data: True\n",
      "\n",
      "column name in database: operating_temperature\n",
      "column available in csv data: True\n",
      "\n",
      "column name in database: power_derating\n",
      "column available in csv data: False\n",
      "\n",
      "column name in database: company\n",
      "column available in csv data: True\n"
     ]
    }
   ],
   "execution_count": 73
  },
  {
   "metadata": {
    "ExecuteTime": {
     "end_time": "2025-05-22T14:30:06.844426Z",
     "start_time": "2025-05-22T14:30:06.841893Z"
    }
   },
   "cell_type": "code",
   "source": "missing_cols",
   "id": "4c5c5a4cee5f338a",
   "outputs": [
    {
     "data": {
      "text/plain": [
       "['power_derating']"
      ]
     },
     "execution_count": 74,
     "metadata": {},
     "output_type": "execute_result"
    }
   ],
   "execution_count": 74
  },
  {
   "metadata": {
    "ExecuteTime": {
     "end_time": "2025-05-22T14:30:22.167464Z",
     "start_time": "2025-05-22T14:30:22.165263Z"
    }
   },
   "cell_type": "code",
   "source": [
    "for i in missing_cols:\n",
    "    print(i)\n",
    "    print(db_data[i].values[:10])"
   ],
   "id": "59118b7937b0fd09",
   "outputs": [
    {
     "name": "stdout",
     "output_type": "stream",
     "text": [
      "power_derating\n",
      "[list([{'threshold': {'temperature': 85, 'unit': 'C'}, 'unit': '%', 'rate': 0.0}])\n",
      " list([{'threshold': {'temperature': 85, 'unit': 'C'}, 'unit': '%', 'rate': 0.0}])\n",
      " list([{'threshold': {'temperature': 85, 'unit': 'C'}, 'unit': '%', 'rate': 30.0}])\n",
      " list([{'threshold': {'temperature': 85, 'unit': 'C'}, 'unit': '%', 'rate': 0.0}])\n",
      " list([{'threshold': {'temperature': 85, 'unit': 'C'}, 'unit': '%', 'rate': 30.0}])\n",
      " list([{'threshold': {'temperature': 85, 'unit': 'C'}, 'unit': '%', 'rate': 30.0}])\n",
      " list([{'threshold': {'temperature': 85, 'unit': 'C'}, 'unit': '%', 'rate': 30.0}])\n",
      " list([{'threshold': {'temperature': 85, 'unit': 'C'}, 'unit': '%', 'rate': 100.0}])\n",
      " list([{'threshold': {'temperature': 85, 'unit': 'C'}, 'unit': '%', 'rate': 100.0}])\n",
      " list([{'threshold': {'temperature': 85, 'unit': 'C'}, 'unit': '%', 'rate': 100.0}])]\n"
     ]
    }
   ],
   "execution_count": 75
  },
  {
   "metadata": {
    "ExecuteTime": {
     "end_time": "2025-05-22T11:56:44.219994Z",
     "start_time": "2025-05-22T11:56:44.217508Z"
    }
   },
   "cell_type": "code",
   "source": [
    "\n",
    "products['pin_count'].isna().mean()"
   ],
   "id": "79900de7dbe8852d",
   "outputs": [
    {
     "data": {
      "text/plain": [
       "np.float64(1.0)"
      ]
     },
     "execution_count": 20,
     "metadata": {},
     "output_type": "execute_result"
    }
   ],
   "execution_count": 20
  },
  {
   "metadata": {},
   "cell_type": "markdown",
   "source": [
    "# missing columns notes:\n",
    "\n",
    "1. isolation test voltage --> isolation test voltage VDC & VAC & duration\n",
    "2. pins --> drop / empty\n",
    "3. package --> drop\n",
    "4. packaging type --> drop\n",
    "5. dimensions --> pack\n",
    "6. operating temp --> pack"
   ],
   "id": "949d903cb91f3f2c"
  },
  {
   "metadata": {
    "ExecuteTime": {
     "end_time": "2025-05-22T11:56:44.291031Z",
     "start_time": "2025-05-22T11:56:44.288954Z"
    }
   },
   "cell_type": "code",
   "source": "products.columns",
   "id": "b1a8e19b53a3cc20",
   "outputs": [
    {
     "data": {
      "text/plain": [
       "Index(['article_number', 'id', 'company', 'product_series', 'part_number',\n",
       "       'converter_type', 'ac_voltage_input_min', 'ac_voltage_input_max',\n",
       "       'dc_voltage_input_min', 'dc_voltage_input_max',\n",
       "       'input_voltage_tolerance', 'power', 'is_regulated',\n",
       "       'regulation_voltage_range', 'efficiency', 'isolation_test_duration',\n",
       "       'isolation_test_voltage_VDC', 'isolation_test_voltage_VAC',\n",
       "       'isolation_test_duration_in_seconds', 'Isolation Grade',\n",
       "       'voltage_output_1', 'voltage_output_2', 'voltage_output_3', 'i_out1',\n",
       "       'i_out2', 'i_out3', 'output_type', 'Load_regulation',\n",
       "       'Load_regulation_typ_max', 'Line_regulation', 'Accuracy',\n",
       "       'Package_Style', 'pin_count', 'connection_type', 'dimensions_unit',\n",
       "       'dimensions_length', 'dimensions_width', 'dimensions_height',\n",
       "       'certifications', 'protections', 'OVC_category', 'operating_temp_min',\n",
       "       'operating_temp_max', 'Protection SCP', 'Protection OLP',\n",
       "       'Protection OVP', 'Protection OCP', 'Protection OTP',\n",
       "       'Certification EN 60950-1', 'Certification UL 60950-1',\n",
       "       'Certification EN 50155', 'Certification EN 60601-1',\n",
       "       'Certification UL 60601-1', 'Certification EN 61010-1',\n",
       "       'Certification EN 61347-1', 'Certification EN 60601-1-2',\n",
       "       'Certification EN 60335-1', 'Certification EN 62368-1',\n",
       "       'Certification UL 62368-1', 'Certification IEC 60950-1'],\n",
       "      dtype='object')"
      ]
     },
     "execution_count": 23,
     "metadata": {},
     "output_type": "execute_result"
    }
   ],
   "execution_count": 23
  },
  {
   "metadata": {
    "ExecuteTime": {
     "end_time": "2025-05-22T11:56:44.336545Z",
     "start_time": "2025-05-22T11:56:44.322396Z"
    }
   },
   "cell_type": "code",
   "source": [
    "with open(db_path, mode='r') as file:\n",
    "    df = pd.read_csv(file)"
   ],
   "id": "15cf8e7ba4af64dd",
   "outputs": [],
   "execution_count": 24
  },
  {
   "metadata": {},
   "cell_type": "markdown",
   "source": "# step 1 - create certifications field from columns",
   "id": "2b80d2ac44bfd017"
  },
  {
   "metadata": {},
   "cell_type": "markdown",
   "source": "## test row from dataframe",
   "id": "c18afe9f43be02eb"
  },
  {
   "metadata": {
    "ExecuteTime": {
     "end_time": "2025-05-22T12:30:31.956420Z",
     "start_time": "2025-05-22T12:30:31.953421Z"
    }
   },
   "cell_type": "code",
   "source": [
    "\n",
    "products['isolation_test_voltage_VDC'].isna().mean()\n"
   ],
   "id": "f45ec18140e06f49",
   "outputs": [
    {
     "data": {
      "text/plain": [
       "np.float64(1.0)"
      ]
     },
     "execution_count": 42,
     "metadata": {},
     "output_type": "execute_result"
    }
   ],
   "execution_count": 42
  },
  {
   "metadata": {
    "ExecuteTime": {
     "end_time": "2025-05-22T14:04:34.281758Z",
     "start_time": "2025-05-22T14:04:34.280003Z"
    }
   },
   "cell_type": "code",
   "source": "test_row = products.iloc[0].to_dict()",
   "id": "cbc947275150fd0d",
   "outputs": [],
   "execution_count": 48
  },
  {
   "metadata": {
    "ExecuteTime": {
     "end_time": "2025-05-22T12:35:05.695556Z",
     "start_time": "2025-05-22T12:35:05.693237Z"
    }
   },
   "cell_type": "code",
   "source": "db_data[\"isolation_test_voltage\"].values[0]",
   "id": "c0650585ff26e7a4",
   "outputs": [
    {
     "data": {
      "text/plain": [
       "[{'duration_sec': 60, 'unit': 'VDC', 'voltage': 5200},\n",
       " {'duration_sec': 60, 'unit': 'VAC', 'voltage': 4000}]"
      ]
     },
     "execution_count": 46,
     "metadata": {},
     "output_type": "execute_result"
    }
   ],
   "execution_count": 46
  },
  {
   "metadata": {},
   "cell_type": "markdown",
   "source": "### create isolation test information",
   "id": "f544d16b6bba7fa0"
  },
  {
   "metadata": {
    "ExecuteTime": {
     "end_time": "2025-05-22T14:07:01.637187Z",
     "start_time": "2025-05-22T14:07:01.634960Z"
    }
   },
   "cell_type": "code",
   "source": [
    "def create_isolation_test_dict(row: dict) -> list[dict]:\n",
    "\n",
    "    isolation_test_column_names = [\"isolation_test_voltage_VDC\", \"isolation_test_voltage_VAC\"]\n",
    "# \"isolation_test_duration_in_seconds\"\n",
    "    result = []\n",
    "\n",
    "    for test_name in isolation_test_column_names:\n",
    "        test_result = {}\n",
    "        if not np.isnan(row[test_name]):\n",
    "            test_result[\"unit\"] = test_name.split(\"_\")[-1]\n",
    "            test_result[\"voltage\"] = int(row[test_name])\n",
    "            test_result[\"duration_sec\"] = int(row[\"isolation_test_duration_in_seconds\"])\n",
    "\n",
    "        result.append(test_result)\n",
    "\n",
    "    return result"
   ],
   "id": "f2f28d2d60efbbb",
   "outputs": [],
   "execution_count": 54
  },
  {
   "metadata": {
    "ExecuteTime": {
     "end_time": "2025-05-22T14:16:34.437939Z",
     "start_time": "2025-05-22T14:16:34.322105Z"
    }
   },
   "cell_type": "code",
   "source": "products[\"isolation_test_voltage\"] = products.apply(lambda x: create_isolation_test_dict(x), axis=1)",
   "id": "25d0601cb7367db8",
   "outputs": [],
   "execution_count": 58
  },
  {
   "metadata": {
    "ExecuteTime": {
     "end_time": "2025-05-22T14:58:10.870141Z",
     "start_time": "2025-05-22T14:58:10.866034Z"
    }
   },
   "cell_type": "code",
   "source": [
    "products['pins'] = [[]] * products.shape[0]\n",
    "products['package'] = None\n",
    "products['packaging_type'] = None\n",
    "products['power_derating'] = None\n",
    "\n"
   ],
   "id": "89943dd8e75ac40",
   "outputs": [],
   "execution_count": 105
  },
  {
   "metadata": {},
   "cell_type": "markdown",
   "source": "### create dimensions",
   "id": "b3d9433cdacd45dc"
  },
  {
   "metadata": {
    "ExecuteTime": {
     "end_time": "2025-05-22T14:23:30.557352Z",
     "start_time": "2025-05-22T14:23:30.555209Z"
    }
   },
   "cell_type": "code",
   "source": [
    "def create_dimensions(row: dict) -> dict:\n",
    "\n",
    "    # {'unit': 'mm', 'length': 19.6, 'width': 6.0, 'height': 10.2}\n",
    "\n",
    "    result = {}\n",
    "\n",
    "    result[\"unit\"] = row[\"dimensions_unit\"]\n",
    "    result[\"length\"] = row[\"dimensions_length\"]\n",
    "    result[\"width\"] = row[\"dimensions_width\"]\n",
    "    result[\"height\"] = row[\"dimensions_height\"]\n",
    "\n",
    "    return result\n",
    "\n"
   ],
   "id": "d9d9af5302fc5463",
   "outputs": [],
   "execution_count": 61
  },
  {
   "metadata": {
    "ExecuteTime": {
     "end_time": "2025-05-22T14:24:25.926276Z",
     "start_time": "2025-05-22T14:24:25.805944Z"
    }
   },
   "cell_type": "code",
   "source": "products['dimensions'] = products.apply(lambda x: create_dimensions(x), axis=1)",
   "id": "f1b2298829a09894",
   "outputs": [],
   "execution_count": 64
  },
  {
   "metadata": {},
   "cell_type": "markdown",
   "source": "### create operating temperature",
   "id": "94e0a96670023dd5"
  },
  {
   "metadata": {
    "ExecuteTime": {
     "end_time": "2025-05-22T14:29:01.806432Z",
     "start_time": "2025-05-22T14:29:01.804260Z"
    }
   },
   "cell_type": "code",
   "source": [
    "def create_operating_temperature(row: dict) -> dict:\n",
    "    #{'min': -40.0, 'max': 85.0}\n",
    "\n",
    "    result = {}\n",
    "\n",
    "    result[\"min\"] = row[\"operating_temp_min\"]\n",
    "    result[\"max\"] = row[\"operating_temp_max\"]\n",
    "\n",
    "    return result"
   ],
   "id": "f2a9b085a8d0bf62",
   "outputs": [],
   "execution_count": 69
  },
  {
   "metadata": {
    "ExecuteTime": {
     "end_time": "2025-05-22T14:29:03.179478Z",
     "start_time": "2025-05-22T14:29:03.177125Z"
    }
   },
   "cell_type": "code",
   "source": "create_operating_temperature(test_row)",
   "id": "7f4897ca1757ff32",
   "outputs": [
    {
     "data": {
      "text/plain": [
       "{'min': -40.0, 'max': 95.0}"
      ]
     },
     "execution_count": 70,
     "metadata": {},
     "output_type": "execute_result"
    }
   ],
   "execution_count": 70
  },
  {
   "metadata": {
    "ExecuteTime": {
     "end_time": "2025-05-22T14:29:41.130601Z",
     "start_time": "2025-05-22T14:29:41.035941Z"
    }
   },
   "cell_type": "code",
   "source": "products[\"operating_temperature\"] = products.apply(lambda x: create_operating_temperature(x), axis=1)",
   "id": "e90d0d84846c6389",
   "outputs": [],
   "execution_count": 72
  },
  {
   "metadata": {
    "ExecuteTime": {
     "end_time": "2025-05-22T14:55:48.166606Z",
     "start_time": "2025-05-22T14:55:48.164501Z"
    }
   },
   "cell_type": "code",
   "source": [
    "recom_certificates = list(filter(lambda x: x.startswith(\"Certification\"), products.columns))\n",
    "recom_protections = list(filter(lambda x: x.startswith(\"Protection\"), products.columns))\n"
   ],
   "id": "b13e8d6604dee01b",
   "outputs": [],
   "execution_count": 96
  },
  {
   "metadata": {
    "ExecuteTime": {
     "end_time": "2025-05-22T14:17:56.502150Z",
     "start_time": "2025-05-22T14:17:56.499912Z"
    }
   },
   "cell_type": "code",
   "source": "db_data['pins'].values[0]",
   "id": "4a77461de6020e91",
   "outputs": [
    {
     "data": {
      "text/plain": [
       "[{'pin_id': 1, 'type': '+VDC in'},\n",
       " {'pin_id': 2, 'type': '-VDC in'},\n",
       " {'pin_id': 6, 'type': '-V out'},\n",
       " {'pin_id': 7, 'type': '+V out'}]"
      ]
     },
     "execution_count": 59,
     "metadata": {},
     "output_type": "execute_result"
    }
   ],
   "execution_count": 59
  },
  {
   "metadata": {
    "ExecuteTime": {
     "end_time": "2025-05-22T11:56:44.538891Z",
     "start_time": "2025-05-22T11:56:44.536884Z"
    }
   },
   "cell_type": "code",
   "source": "recom_certificates",
   "id": "81dc580e8639dabd",
   "outputs": [
    {
     "data": {
      "text/plain": [
       "['Certification EN 60950-1',\n",
       " 'Certification UL 60950-1',\n",
       " 'Certification EN 50155',\n",
       " 'Certification EN 60601-1',\n",
       " 'Certification UL 60601-1',\n",
       " 'Certification EN 61010-1',\n",
       " 'Certification EN 61347-1',\n",
       " 'Certification EN 60601-1-2',\n",
       " 'Certification EN 60335-1',\n",
       " 'Certification EN 62368-1',\n",
       " 'Certification UL 62368-1',\n",
       " 'Certification IEC 60950-1']"
      ]
     },
     "execution_count": 30,
     "metadata": {},
     "output_type": "execute_result"
    }
   ],
   "execution_count": 30
  },
  {
   "metadata": {
    "ExecuteTime": {
     "end_time": "2025-05-22T14:30:59.424083Z",
     "start_time": "2025-05-22T14:30:59.399775Z"
    }
   },
   "cell_type": "code",
   "source": "products",
   "id": "effc238b50308e3d",
   "outputs": [
    {
     "data": {
      "text/plain": [
       "       article_number     id company product_series  \\\n",
       "0            10003989      1   recom        RxxP2xx   \n",
       "1            10020435      2   recom       REC20K-Z   \n",
       "2            10019127      3   recom           RS3E   \n",
       "3            21000705      4   recom        RPK50-W   \n",
       "4            23000089      5   recom   RACPRO1-T240   \n",
       "...               ...    ...     ...            ...   \n",
       "34444        90000031  34445   recom            NaN   \n",
       "34445        90000008  34446   recom            NaN   \n",
       "34446        90000014  34447   recom            NaN   \n",
       "34447        90000047  34448   recom            NaN   \n",
       "34448        90000046  34449   recom            NaN   \n",
       "\n",
       "                               part_number    converter_type  \\\n",
       "0                                 R12P212D  DC/DC-Converters   \n",
       "1                          REC20K-483737DZ  DC/DC-Converters   \n",
       "2                            RS3E-2405S/H3  DC/DC-Converters   \n",
       "3                      RPK50-4824SW/R3/X8A  DC/DC-Converters   \n",
       "4                       ET-RACPRO1-T240/24  AC/DC-Converters   \n",
       "...                                    ...               ...   \n",
       "34444    Miete Überl.BGA IC Solutions GmbH               NaN   \n",
       "34445  Teilnahmegebühr EMV Seminar/Webinar               NaN   \n",
       "34446                   Commission Charges               NaN   \n",
       "34447       Weiterverr.IC über Bilanzkonto               NaN   \n",
       "34448                   Erlöse Provisionen               NaN   \n",
       "\n",
       "       ac_voltage_input_min  ac_voltage_input_max  dc_voltage_input_min  \\\n",
       "0                       NaN                   NaN                  10.8   \n",
       "1                       NaN                   NaN                  18.0   \n",
       "2                       NaN                   NaN                  18.0   \n",
       "3                       NaN                   NaN                  19.0   \n",
       "4                     320.0                 575.0                   NaN   \n",
       "...                     ...                   ...                   ...   \n",
       "34444                   NaN                   NaN                   NaN   \n",
       "34445                   NaN                   NaN                   NaN   \n",
       "34446                   NaN                   NaN                   NaN   \n",
       "34447                   NaN                   NaN                   NaN   \n",
       "34448                   NaN                   NaN                   NaN   \n",
       "\n",
       "       dc_voltage_input_max  ...  Certification EN 60335-1  \\\n",
       "0                      13.2  ...                         0   \n",
       "1                      75.0  ...                         0   \n",
       "2                      36.0  ...                         0   \n",
       "3                      72.0  ...                         0   \n",
       "4                       NaN  ...                         0   \n",
       "...                     ...  ...                       ...   \n",
       "34444                   NaN  ...                         0   \n",
       "34445                   NaN  ...                         0   \n",
       "34446                   NaN  ...                         0   \n",
       "34447                   NaN  ...                         0   \n",
       "34448                   NaN  ...                         0   \n",
       "\n",
       "       Certification EN 62368-1  Certification UL 62368-1  \\\n",
       "0                             1                         1   \n",
       "1                             0                         0   \n",
       "2                             1                         1   \n",
       "3                             0                         0   \n",
       "4                             0                         0   \n",
       "...                         ...                       ...   \n",
       "34444                         0                         0   \n",
       "34445                         0                         0   \n",
       "34446                         0                         0   \n",
       "34447                         0                         0   \n",
       "34448                         0                         0   \n",
       "\n",
       "      Certification IEC 60950-1  isolation_test_voltage  pins  package  \\\n",
       "0                             1                [{}, {}]  None     None   \n",
       "1                             0                [{}, {}]  None     None   \n",
       "2                             0                [{}, {}]  None     None   \n",
       "3                             0                [{}, {}]  None     None   \n",
       "4                             0                [{}, {}]  None     None   \n",
       "...                         ...                     ...   ...      ...   \n",
       "34444                         0                [{}, {}]  None     None   \n",
       "34445                         0                [{}, {}]  None     None   \n",
       "34446                         0                [{}, {}]  None     None   \n",
       "34447                         0                [{}, {}]  None     None   \n",
       "34448                         0                [{}, {}]  None     None   \n",
       "\n",
       "       packaging_type                                         dimensions  \\\n",
       "0                None  {'unit': 'mm', 'length': 19.5, 'width': 9.8, '...   \n",
       "1                None  {'unit': 'mm', 'length': 25.4, 'width': 25.4, ...   \n",
       "2                None  {'unit': 'mm', 'length': 21.8, 'width': 9.2, '...   \n",
       "3                None  {'unit': 'mm', 'length': 0.0, 'width': 0.0, 'h...   \n",
       "4                None  {'unit': 'mm', 'length': 135.0, 'width': 43.0,...   \n",
       "...               ...                                                ...   \n",
       "34444            None  {'unit': 'mm', 'length': 0.0, 'width': 0.0, 'h...   \n",
       "34445            None  {'unit': 'mm', 'length': 0.0, 'width': 0.0, 'h...   \n",
       "34446            None  {'unit': 'mm', 'length': 0.0, 'width': 0.0, 'h...   \n",
       "34447            None  {'unit': 'mm', 'length': 0.0, 'width': 0.0, 'h...   \n",
       "34448            None  {'unit': 'mm', 'length': 0.0, 'width': 0.0, 'h...   \n",
       "\n",
       "             operating_temperature  \n",
       "0      {'min': -40.0, 'max': 95.0}  \n",
       "1      {'min': -40.0, 'max': 85.0}  \n",
       "2      {'min': -40.0, 'max': 70.0}  \n",
       "3         {'min': nan, 'max': nan}  \n",
       "4      {'min': -40.0, 'max': 60.0}  \n",
       "...                            ...  \n",
       "34444     {'min': nan, 'max': nan}  \n",
       "34445     {'min': nan, 'max': nan}  \n",
       "34446     {'min': nan, 'max': nan}  \n",
       "34447     {'min': nan, 'max': nan}  \n",
       "34448     {'min': nan, 'max': nan}  \n",
       "\n",
       "[34449 rows x 66 columns]"
      ],
      "text/html": [
       "<div>\n",
       "<style scoped>\n",
       "    .dataframe tbody tr th:only-of-type {\n",
       "        vertical-align: middle;\n",
       "    }\n",
       "\n",
       "    .dataframe tbody tr th {\n",
       "        vertical-align: top;\n",
       "    }\n",
       "\n",
       "    .dataframe thead th {\n",
       "        text-align: right;\n",
       "    }\n",
       "</style>\n",
       "<table border=\"1\" class=\"dataframe\">\n",
       "  <thead>\n",
       "    <tr style=\"text-align: right;\">\n",
       "      <th></th>\n",
       "      <th>article_number</th>\n",
       "      <th>id</th>\n",
       "      <th>company</th>\n",
       "      <th>product_series</th>\n",
       "      <th>part_number</th>\n",
       "      <th>converter_type</th>\n",
       "      <th>ac_voltage_input_min</th>\n",
       "      <th>ac_voltage_input_max</th>\n",
       "      <th>dc_voltage_input_min</th>\n",
       "      <th>dc_voltage_input_max</th>\n",
       "      <th>...</th>\n",
       "      <th>Certification EN 60335-1</th>\n",
       "      <th>Certification EN 62368-1</th>\n",
       "      <th>Certification UL 62368-1</th>\n",
       "      <th>Certification IEC 60950-1</th>\n",
       "      <th>isolation_test_voltage</th>\n",
       "      <th>pins</th>\n",
       "      <th>package</th>\n",
       "      <th>packaging_type</th>\n",
       "      <th>dimensions</th>\n",
       "      <th>operating_temperature</th>\n",
       "    </tr>\n",
       "  </thead>\n",
       "  <tbody>\n",
       "    <tr>\n",
       "      <th>0</th>\n",
       "      <td>10003989</td>\n",
       "      <td>1</td>\n",
       "      <td>recom</td>\n",
       "      <td>RxxP2xx</td>\n",
       "      <td>R12P212D</td>\n",
       "      <td>DC/DC-Converters</td>\n",
       "      <td>NaN</td>\n",
       "      <td>NaN</td>\n",
       "      <td>10.8</td>\n",
       "      <td>13.2</td>\n",
       "      <td>...</td>\n",
       "      <td>0</td>\n",
       "      <td>1</td>\n",
       "      <td>1</td>\n",
       "      <td>1</td>\n",
       "      <td>[{}, {}]</td>\n",
       "      <td>None</td>\n",
       "      <td>None</td>\n",
       "      <td>None</td>\n",
       "      <td>{'unit': 'mm', 'length': 19.5, 'width': 9.8, '...</td>\n",
       "      <td>{'min': -40.0, 'max': 95.0}</td>\n",
       "    </tr>\n",
       "    <tr>\n",
       "      <th>1</th>\n",
       "      <td>10020435</td>\n",
       "      <td>2</td>\n",
       "      <td>recom</td>\n",
       "      <td>REC20K-Z</td>\n",
       "      <td>REC20K-483737DZ</td>\n",
       "      <td>DC/DC-Converters</td>\n",
       "      <td>NaN</td>\n",
       "      <td>NaN</td>\n",
       "      <td>18.0</td>\n",
       "      <td>75.0</td>\n",
       "      <td>...</td>\n",
       "      <td>0</td>\n",
       "      <td>0</td>\n",
       "      <td>0</td>\n",
       "      <td>0</td>\n",
       "      <td>[{}, {}]</td>\n",
       "      <td>None</td>\n",
       "      <td>None</td>\n",
       "      <td>None</td>\n",
       "      <td>{'unit': 'mm', 'length': 25.4, 'width': 25.4, ...</td>\n",
       "      <td>{'min': -40.0, 'max': 85.0}</td>\n",
       "    </tr>\n",
       "    <tr>\n",
       "      <th>2</th>\n",
       "      <td>10019127</td>\n",
       "      <td>3</td>\n",
       "      <td>recom</td>\n",
       "      <td>RS3E</td>\n",
       "      <td>RS3E-2405S/H3</td>\n",
       "      <td>DC/DC-Converters</td>\n",
       "      <td>NaN</td>\n",
       "      <td>NaN</td>\n",
       "      <td>18.0</td>\n",
       "      <td>36.0</td>\n",
       "      <td>...</td>\n",
       "      <td>0</td>\n",
       "      <td>1</td>\n",
       "      <td>1</td>\n",
       "      <td>0</td>\n",
       "      <td>[{}, {}]</td>\n",
       "      <td>None</td>\n",
       "      <td>None</td>\n",
       "      <td>None</td>\n",
       "      <td>{'unit': 'mm', 'length': 21.8, 'width': 9.2, '...</td>\n",
       "      <td>{'min': -40.0, 'max': 70.0}</td>\n",
       "    </tr>\n",
       "    <tr>\n",
       "      <th>3</th>\n",
       "      <td>21000705</td>\n",
       "      <td>4</td>\n",
       "      <td>recom</td>\n",
       "      <td>RPK50-W</td>\n",
       "      <td>RPK50-4824SW/R3/X8A</td>\n",
       "      <td>DC/DC-Converters</td>\n",
       "      <td>NaN</td>\n",
       "      <td>NaN</td>\n",
       "      <td>19.0</td>\n",
       "      <td>72.0</td>\n",
       "      <td>...</td>\n",
       "      <td>0</td>\n",
       "      <td>0</td>\n",
       "      <td>0</td>\n",
       "      <td>0</td>\n",
       "      <td>[{}, {}]</td>\n",
       "      <td>None</td>\n",
       "      <td>None</td>\n",
       "      <td>None</td>\n",
       "      <td>{'unit': 'mm', 'length': 0.0, 'width': 0.0, 'h...</td>\n",
       "      <td>{'min': nan, 'max': nan}</td>\n",
       "    </tr>\n",
       "    <tr>\n",
       "      <th>4</th>\n",
       "      <td>23000089</td>\n",
       "      <td>5</td>\n",
       "      <td>recom</td>\n",
       "      <td>RACPRO1-T240</td>\n",
       "      <td>ET-RACPRO1-T240/24</td>\n",
       "      <td>AC/DC-Converters</td>\n",
       "      <td>320.0</td>\n",
       "      <td>575.0</td>\n",
       "      <td>NaN</td>\n",
       "      <td>NaN</td>\n",
       "      <td>...</td>\n",
       "      <td>0</td>\n",
       "      <td>0</td>\n",
       "      <td>0</td>\n",
       "      <td>0</td>\n",
       "      <td>[{}, {}]</td>\n",
       "      <td>None</td>\n",
       "      <td>None</td>\n",
       "      <td>None</td>\n",
       "      <td>{'unit': 'mm', 'length': 135.0, 'width': 43.0,...</td>\n",
       "      <td>{'min': -40.0, 'max': 60.0}</td>\n",
       "    </tr>\n",
       "    <tr>\n",
       "      <th>...</th>\n",
       "      <td>...</td>\n",
       "      <td>...</td>\n",
       "      <td>...</td>\n",
       "      <td>...</td>\n",
       "      <td>...</td>\n",
       "      <td>...</td>\n",
       "      <td>...</td>\n",
       "      <td>...</td>\n",
       "      <td>...</td>\n",
       "      <td>...</td>\n",
       "      <td>...</td>\n",
       "      <td>...</td>\n",
       "      <td>...</td>\n",
       "      <td>...</td>\n",
       "      <td>...</td>\n",
       "      <td>...</td>\n",
       "      <td>...</td>\n",
       "      <td>...</td>\n",
       "      <td>...</td>\n",
       "      <td>...</td>\n",
       "      <td>...</td>\n",
       "    </tr>\n",
       "    <tr>\n",
       "      <th>34444</th>\n",
       "      <td>90000031</td>\n",
       "      <td>34445</td>\n",
       "      <td>recom</td>\n",
       "      <td>NaN</td>\n",
       "      <td>Miete Überl.BGA IC Solutions GmbH</td>\n",
       "      <td>NaN</td>\n",
       "      <td>NaN</td>\n",
       "      <td>NaN</td>\n",
       "      <td>NaN</td>\n",
       "      <td>NaN</td>\n",
       "      <td>...</td>\n",
       "      <td>0</td>\n",
       "      <td>0</td>\n",
       "      <td>0</td>\n",
       "      <td>0</td>\n",
       "      <td>[{}, {}]</td>\n",
       "      <td>None</td>\n",
       "      <td>None</td>\n",
       "      <td>None</td>\n",
       "      <td>{'unit': 'mm', 'length': 0.0, 'width': 0.0, 'h...</td>\n",
       "      <td>{'min': nan, 'max': nan}</td>\n",
       "    </tr>\n",
       "    <tr>\n",
       "      <th>34445</th>\n",
       "      <td>90000008</td>\n",
       "      <td>34446</td>\n",
       "      <td>recom</td>\n",
       "      <td>NaN</td>\n",
       "      <td>Teilnahmegebühr EMV Seminar/Webinar</td>\n",
       "      <td>NaN</td>\n",
       "      <td>NaN</td>\n",
       "      <td>NaN</td>\n",
       "      <td>NaN</td>\n",
       "      <td>NaN</td>\n",
       "      <td>...</td>\n",
       "      <td>0</td>\n",
       "      <td>0</td>\n",
       "      <td>0</td>\n",
       "      <td>0</td>\n",
       "      <td>[{}, {}]</td>\n",
       "      <td>None</td>\n",
       "      <td>None</td>\n",
       "      <td>None</td>\n",
       "      <td>{'unit': 'mm', 'length': 0.0, 'width': 0.0, 'h...</td>\n",
       "      <td>{'min': nan, 'max': nan}</td>\n",
       "    </tr>\n",
       "    <tr>\n",
       "      <th>34446</th>\n",
       "      <td>90000014</td>\n",
       "      <td>34447</td>\n",
       "      <td>recom</td>\n",
       "      <td>NaN</td>\n",
       "      <td>Commission Charges</td>\n",
       "      <td>NaN</td>\n",
       "      <td>NaN</td>\n",
       "      <td>NaN</td>\n",
       "      <td>NaN</td>\n",
       "      <td>NaN</td>\n",
       "      <td>...</td>\n",
       "      <td>0</td>\n",
       "      <td>0</td>\n",
       "      <td>0</td>\n",
       "      <td>0</td>\n",
       "      <td>[{}, {}]</td>\n",
       "      <td>None</td>\n",
       "      <td>None</td>\n",
       "      <td>None</td>\n",
       "      <td>{'unit': 'mm', 'length': 0.0, 'width': 0.0, 'h...</td>\n",
       "      <td>{'min': nan, 'max': nan}</td>\n",
       "    </tr>\n",
       "    <tr>\n",
       "      <th>34447</th>\n",
       "      <td>90000047</td>\n",
       "      <td>34448</td>\n",
       "      <td>recom</td>\n",
       "      <td>NaN</td>\n",
       "      <td>Weiterverr.IC über Bilanzkonto</td>\n",
       "      <td>NaN</td>\n",
       "      <td>NaN</td>\n",
       "      <td>NaN</td>\n",
       "      <td>NaN</td>\n",
       "      <td>NaN</td>\n",
       "      <td>...</td>\n",
       "      <td>0</td>\n",
       "      <td>0</td>\n",
       "      <td>0</td>\n",
       "      <td>0</td>\n",
       "      <td>[{}, {}]</td>\n",
       "      <td>None</td>\n",
       "      <td>None</td>\n",
       "      <td>None</td>\n",
       "      <td>{'unit': 'mm', 'length': 0.0, 'width': 0.0, 'h...</td>\n",
       "      <td>{'min': nan, 'max': nan}</td>\n",
       "    </tr>\n",
       "    <tr>\n",
       "      <th>34448</th>\n",
       "      <td>90000046</td>\n",
       "      <td>34449</td>\n",
       "      <td>recom</td>\n",
       "      <td>NaN</td>\n",
       "      <td>Erlöse Provisionen</td>\n",
       "      <td>NaN</td>\n",
       "      <td>NaN</td>\n",
       "      <td>NaN</td>\n",
       "      <td>NaN</td>\n",
       "      <td>NaN</td>\n",
       "      <td>...</td>\n",
       "      <td>0</td>\n",
       "      <td>0</td>\n",
       "      <td>0</td>\n",
       "      <td>0</td>\n",
       "      <td>[{}, {}]</td>\n",
       "      <td>None</td>\n",
       "      <td>None</td>\n",
       "      <td>None</td>\n",
       "      <td>{'unit': 'mm', 'length': 0.0, 'width': 0.0, 'h...</td>\n",
       "      <td>{'min': nan, 'max': nan}</td>\n",
       "    </tr>\n",
       "  </tbody>\n",
       "</table>\n",
       "<p>34449 rows × 66 columns</p>\n",
       "</div>"
      ]
     },
     "execution_count": 76,
     "metadata": {},
     "output_type": "execute_result"
    }
   ],
   "execution_count": 76
  },
  {
   "metadata": {
    "ExecuteTime": {
     "end_time": "2025-05-22T14:33:23.936765Z",
     "start_time": "2025-05-22T14:33:23.934449Z"
    }
   },
   "cell_type": "code",
   "source": "db_data['certifications'].values[0]",
   "id": "f075ae40e8da2f1f",
   "outputs": [
    {
     "data": {
      "text/plain": [
       "['IEC/EN60601-1', 'ANSI/AAMI ES60601-1', 'EN62368-1', 'IEC60601-1-2']"
      ]
     },
     "execution_count": 78,
     "metadata": {},
     "output_type": "execute_result"
    }
   ],
   "execution_count": 78
  },
  {
   "metadata": {
    "ExecuteTime": {
     "end_time": "2025-05-22T14:56:22.887720Z",
     "start_time": "2025-05-22T14:56:22.885248Z"
    }
   },
   "cell_type": "code",
   "source": [
    "def extract_certificates(row: dict) -> list[str]:\n",
    "\n",
    "    result = []\n",
    "    for name in recom_certificates:\n",
    "       if row[name] == 1:\n",
    "           result.append(name)\n",
    "\n",
    "    return result\n",
    "\n",
    "\n",
    "def extract_protections(row: dict) -> list[str]:\n",
    "\n",
    "    result = []\n",
    "    for name in recom_protections:\n",
    "       if row[name] == 1:\n",
    "           result.append(name)\n",
    "\n",
    "    return result\n"
   ],
   "id": "70ba3ae49753976d",
   "outputs": [],
   "execution_count": 97
  },
  {
   "metadata": {
    "ExecuteTime": {
     "end_time": "2025-05-22T14:56:37.719677Z",
     "start_time": "2025-05-22T14:56:37.343117Z"
    }
   },
   "cell_type": "code",
   "source": [
    "products['certifications'] = products.apply(lambda x: extract_certificates(x), axis=1)\n",
    "products['protections'] = products.apply(lambda x: extract_protections(x), axis=1)\n"
   ],
   "id": "cf8537d2b6bde621",
   "outputs": [],
   "execution_count": 98
  },
  {
   "metadata": {
    "ExecuteTime": {
     "end_time": "2025-05-22T14:58:23.043332Z",
     "start_time": "2025-05-22T14:58:23.040956Z"
    }
   },
   "cell_type": "code",
   "source": "df['pins'].values[:10]",
   "id": "8067bfa6b67fb221",
   "outputs": [
    {
     "data": {
      "text/plain": [
       "array([list([]), list([]), list([]), list([]), list([]), list([]),\n",
       "       list([]), list([]), list([]), list([])], dtype=object)"
      ]
     },
     "execution_count": 107,
     "metadata": {},
     "output_type": "execute_result"
    }
   ],
   "execution_count": 107
  },
  {
   "metadata": {
    "ExecuteTime": {
     "end_time": "2025-05-22T15:07:47.715453Z",
     "start_time": "2025-05-22T15:07:47.701614Z"
    }
   },
   "cell_type": "code",
   "source": "df = products[db_data.columns].copy()",
   "id": "846943f2842532dc",
   "outputs": [],
   "execution_count": 124
  },
  {
   "metadata": {
    "ExecuteTime": {
     "end_time": "2025-05-22T15:07:48.736950Z",
     "start_time": "2025-05-22T15:07:48.734818Z"
    }
   },
   "cell_type": "code",
   "source": "df['isolation_test_voltage'] = None",
   "id": "41613bffb407801d",
   "outputs": [],
   "execution_count": 125
  },
  {
   "metadata": {
    "ExecuteTime": {
     "end_time": "2025-05-22T14:48:14.666794Z",
     "start_time": "2025-05-22T14:48:14.664485Z"
    }
   },
   "cell_type": "code",
   "source": [
    "from load_schema import upsert_table, create_product_series_data, create_certifications_data, create_protections_data, create_converters_data, create_isolation_tests_data, create_pins_data, create_derating_data, create_converter_certifications_mapping_table, create_converter_protections_mapping_table\n",
    "from connect_mssql import get_mssql_engine\n",
    "import os"
   ],
   "id": "31211f754316dda2",
   "outputs": [],
   "execution_count": 87
  },
  {
   "metadata": {
    "ExecuteTime": {
     "end_time": "2025-05-22T15:04:26.240574Z",
     "start_time": "2025-05-22T15:04:26.238397Z"
    }
   },
   "cell_type": "code",
   "source": [
    "engine = get_mssql_engine(\n",
    "        server=os.environ[\"MSSQL_HOST_RECOM\"],\n",
    "        username=os.environ[\"MSSQL_USERNAME_RECOM\"],\n",
    "        password=os.environ[\"MSSQL_PASSWORD_RECOM\"],\n",
    "        database=\"Time2Act\",\n",
    "    )\n",
    "schema_name = \"crosslist\"\n",
    "company = \"recom\"\n"
   ],
   "id": "9d201fb9623e5e38",
   "outputs": [],
   "execution_count": 112
  },
  {
   "metadata": {
    "ExecuteTime": {
     "end_time": "2025-05-22T15:07:50.278873Z",
     "start_time": "2025-05-22T15:07:50.276143Z"
    }
   },
   "cell_type": "code",
   "source": "df['isolation_test_voltage'].values[:10]",
   "id": "96ebb7a35741b919",
   "outputs": [
    {
     "data": {
      "text/plain": [
       "array([None, None, None, None, None, None, None, None, None, None],\n",
       "      dtype=object)"
      ]
     },
     "execution_count": 126,
     "metadata": {},
     "output_type": "execute_result"
    }
   ],
   "execution_count": 126
  },
  {
   "metadata": {
    "ExecuteTime": {
     "end_time": "2025-05-22T15:08:14.474173Z",
     "start_time": "2025-05-22T15:08:14.471795Z"
    }
   },
   "cell_type": "code",
   "source": "db_data['isolation_test_voltage'].values[0]",
   "id": "c30c71f4db469439",
   "outputs": [
    {
     "data": {
      "text/plain": [
       "[{'duration_sec': 60, 'unit': 'VDC', 'voltage': 5200},\n",
       " {'duration_sec': 60, 'unit': 'VAC', 'voltage': 4000}]"
      ]
     },
     "execution_count": 128,
     "metadata": {},
     "output_type": "execute_result"
    }
   ],
   "execution_count": 128
  },
  {
   "metadata": {
    "ExecuteTime": {
     "end_time": "2025-05-22T15:13:17.009947Z",
     "start_time": "2025-05-22T15:12:47.357843Z"
    }
   },
   "cell_type": "code",
   "source": [
    "upsert_table(\n",
    "    data=create_product_series_data(df),\n",
    "    table_name=\"product_series\",\n",
    "    column_identifier=\"name\",\n",
    "            schema=schema_name,\n",
    "            db_engine=engine,\n",
    "        )\n",
    "upsert_table(\n",
    "            data=create_certifications_data(df),\n",
    "            table_name=\"certifications\",\n",
    "            column_identifier=\"name\",\n",
    "            schema=schema_name,\n",
    "            db_engine=engine,\n",
    "        )\n",
    "\n",
    "upsert_table(\n",
    "            data=create_protections_data(df),\n",
    "            table_name=\"protections\",\n",
    "            column_identifier=\"name\",\n",
    "            schema=schema_name,\n",
    "            db_engine=engine,\n",
    "        )\n",
    "\n",
    "upsert_table(\n",
    "            data=create_converters_data(\n",
    "                input_data=df, company=company, schema=schema_name, db_engine=engine\n",
    "            ),\n",
    "            table_name=\"converters\",\n",
    "            column_identifier=\"part_number\",\n",
    "            schema=schema_name,\n",
    "            db_engine=engine,\n",
    "        )\n",
    "\n",
    "# upsert_table(\n",
    "#             data=create_isolation_tests_data(\n",
    "#                 input_data=df, schema=schema_name, db_engine=engine\n",
    "#             ),\n",
    "#             table_name=\"isolation_tests\",\n",
    "#             schema=schema_name,\n",
    "#             db_engine=engine,\n",
    "#         )\n",
    "#\n",
    "# upsert_table(\n",
    "#             data=create_pins_data(\n",
    "#                 input_data=df, schema=schema_name, db_engine=engine\n",
    "#             ),\n",
    "#             table_name=\"pins\",\n",
    "#             schema=schema_name,\n",
    "#             db_engine=engine,\n",
    "#         )\n",
    "\n",
    "# upsert_table(\n",
    "#             data=create_derating_data(\n",
    "#                 input_data=df, schema=schema_name, db_engine=engine\n",
    "#             ),\n",
    "#             table_name=\"power_derating\",\n",
    "#             schema=schema_name,\n",
    "#             db_engine=engine,\n",
    "#         )\n",
    "\n",
    "upsert_table(\n",
    "            data=create_converter_certifications_mapping_table(\n",
    "                input_data=df, schema=schema_name, db_engine=engine\n",
    "            ),\n",
    "            table_name=\"converter_certifications\",\n",
    "            schema=schema_name,\n",
    "            db_engine=engine,\n",
    "        )\n",
    "upsert_table(\n",
    "            data=create_converter_protections_mapping_table(\n",
    "                input_data=df, schema=schema_name, db_engine=engine\n",
    "            ),\n",
    "            table_name=\"converter_protections\",\n",
    "            schema=schema_name,\n",
    "            db_engine=engine,\n",
    "        )"
   ],
   "id": "fcb0a153d088392",
   "outputs": [
    {
     "data": {
      "text/plain": [
       "(36348, 2)"
      ]
     },
     "execution_count": 131,
     "metadata": {},
     "output_type": "execute_result"
    }
   ],
   "execution_count": 131
  }
 ],
 "metadata": {
  "kernelspec": {
   "name": "python3",
   "language": "python",
   "display_name": "Python 3 (ipykernel)"
  }
 },
 "nbformat": 5,
 "nbformat_minor": 9
}
